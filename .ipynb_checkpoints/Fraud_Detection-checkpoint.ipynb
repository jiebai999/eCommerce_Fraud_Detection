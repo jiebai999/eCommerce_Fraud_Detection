{
 "cells": [
  {
   "cell_type": "markdown",
   "id": "6034220c",
   "metadata": {},
   "source": [
    "# eCommerce Fraud Detection"
   ]
  },
  {
   "cell_type": "code",
   "execution_count": 1,
   "id": "61adc1b9",
   "metadata": {},
   "outputs": [],
   "source": [
    "import pandas as pd\n",
    "import numpy as np\n",
    "import time\n",
    "import matplotlib.pyplot as plt\n",
    "import seaborn as sns\n",
    "\n",
    "\n",
    "from sklearn import metrics\n",
    "from sklearn.metrics import roc_curve\n",
    "from sklearn.linear_model import LogisticRegression\n",
    "from sklearn.ensemble import RandomForestClassifier\n",
    "from imblearn.over_sampling import SMOTE\n",
    "from sklearn import preprocessing\n",
    "from sklearn.preprocessing import MinMaxScaler\n",
    "from sklearn.metrics import f1_score, roc_auc_score, roc_curve, precision_recall_curve, auc, make_scorer, recall_score, accuracy_score, precision_score, confusion_matrix\n",
    "\n",
    "from sklearn.ensemble import AdaBoostClassifier\n",
    "from sklearn.neighbors import KNeighborsClassifier\n",
    "from sklearn.tree import DecisionTreeClassifier\n",
    "from sklearn.model_selection import GridSearchCV,RandomizedSearchCV\n",
    "from sklearn.naive_bayes import MultinomialNB, BernoulliNB\n",
    "from sklearn import svm\n",
    "from sklearn.model_selection import cross_val_score, train_test_split\n",
    " \n",
    "import timeit\n",
    "\n",
    "%matplotlib inline\n",
    "sns.set_style(\"dark\")"
   ]
  },
  {
   "cell_type": "code",
   "execution_count": 2,
   "id": "afbd536c",
   "metadata": {},
   "outputs": [
    {
     "data": {
      "text/html": [
       "<div>\n",
       "<style scoped>\n",
       "    .dataframe tbody tr th:only-of-type {\n",
       "        vertical-align: middle;\n",
       "    }\n",
       "\n",
       "    .dataframe tbody tr th {\n",
       "        vertical-align: top;\n",
       "    }\n",
       "\n",
       "    .dataframe thead th {\n",
       "        text-align: right;\n",
       "    }\n",
       "</style>\n",
       "<table border=\"1\" class=\"dataframe\">\n",
       "  <thead>\n",
       "    <tr style=\"text-align: right;\">\n",
       "      <th></th>\n",
       "      <th>user_id</th>\n",
       "      <th>signup_time</th>\n",
       "      <th>purchase_time</th>\n",
       "      <th>purchase_value</th>\n",
       "      <th>device_id</th>\n",
       "      <th>source</th>\n",
       "      <th>browser</th>\n",
       "      <th>sex</th>\n",
       "      <th>age</th>\n",
       "      <th>ip_address</th>\n",
       "      <th>class</th>\n",
       "    </tr>\n",
       "  </thead>\n",
       "  <tbody>\n",
       "    <tr>\n",
       "      <th>0</th>\n",
       "      <td>22058</td>\n",
       "      <td>2015-02-24 22:55:49</td>\n",
       "      <td>2015-04-18 02:47:11</td>\n",
       "      <td>34</td>\n",
       "      <td>QVPSPJUOCKZAR</td>\n",
       "      <td>SEO</td>\n",
       "      <td>Chrome</td>\n",
       "      <td>M</td>\n",
       "      <td>39</td>\n",
       "      <td>7.327584e+08</td>\n",
       "      <td>0</td>\n",
       "    </tr>\n",
       "    <tr>\n",
       "      <th>1</th>\n",
       "      <td>333320</td>\n",
       "      <td>2015-06-07 20:39:50</td>\n",
       "      <td>2015-06-08 01:38:54</td>\n",
       "      <td>16</td>\n",
       "      <td>EOGFQPIZPYXFZ</td>\n",
       "      <td>Ads</td>\n",
       "      <td>Chrome</td>\n",
       "      <td>F</td>\n",
       "      <td>53</td>\n",
       "      <td>3.503114e+08</td>\n",
       "      <td>0</td>\n",
       "    </tr>\n",
       "    <tr>\n",
       "      <th>2</th>\n",
       "      <td>150084</td>\n",
       "      <td>2015-04-28 21:13:25</td>\n",
       "      <td>2015-05-04 13:54:50</td>\n",
       "      <td>44</td>\n",
       "      <td>ATGTXKYKUDUQN</td>\n",
       "      <td>SEO</td>\n",
       "      <td>Safari</td>\n",
       "      <td>M</td>\n",
       "      <td>41</td>\n",
       "      <td>3.840542e+09</td>\n",
       "      <td>0</td>\n",
       "    </tr>\n",
       "    <tr>\n",
       "      <th>3</th>\n",
       "      <td>221365</td>\n",
       "      <td>2015-07-21 07:09:52</td>\n",
       "      <td>2015-09-09 18:40:53</td>\n",
       "      <td>39</td>\n",
       "      <td>NAUITBZFJKHWW</td>\n",
       "      <td>Ads</td>\n",
       "      <td>Safari</td>\n",
       "      <td>M</td>\n",
       "      <td>45</td>\n",
       "      <td>4.155831e+08</td>\n",
       "      <td>0</td>\n",
       "    </tr>\n",
       "    <tr>\n",
       "      <th>4</th>\n",
       "      <td>159135</td>\n",
       "      <td>2015-05-21 06:03:03</td>\n",
       "      <td>2015-07-09 08:05:14</td>\n",
       "      <td>42</td>\n",
       "      <td>ALEYXFXINSXLZ</td>\n",
       "      <td>Ads</td>\n",
       "      <td>Chrome</td>\n",
       "      <td>M</td>\n",
       "      <td>18</td>\n",
       "      <td>2.809315e+09</td>\n",
       "      <td>0</td>\n",
       "    </tr>\n",
       "  </tbody>\n",
       "</table>\n",
       "</div>"
      ],
      "text/plain": [
       "   user_id          signup_time        purchase_time  purchase_value  \\\n",
       "0    22058  2015-02-24 22:55:49  2015-04-18 02:47:11              34   \n",
       "1   333320  2015-06-07 20:39:50  2015-06-08 01:38:54              16   \n",
       "2   150084  2015-04-28 21:13:25  2015-05-04 13:54:50              44   \n",
       "3   221365  2015-07-21 07:09:52  2015-09-09 18:40:53              39   \n",
       "4   159135  2015-05-21 06:03:03  2015-07-09 08:05:14              42   \n",
       "\n",
       "       device_id source browser sex  age    ip_address  class  \n",
       "0  QVPSPJUOCKZAR    SEO  Chrome   M   39  7.327584e+08      0  \n",
       "1  EOGFQPIZPYXFZ    Ads  Chrome   F   53  3.503114e+08      0  \n",
       "2  ATGTXKYKUDUQN    SEO  Safari   M   41  3.840542e+09      0  \n",
       "3  NAUITBZFJKHWW    Ads  Safari   M   45  4.155831e+08      0  \n",
       "4  ALEYXFXINSXLZ    Ads  Chrome   M   18  2.809315e+09      0  "
      ]
     },
     "execution_count": 2,
     "metadata": {},
     "output_type": "execute_result"
    }
   ],
   "source": [
    "ip = pd.read_csv('data/IpAddress_to_Country.csv')\n",
    "fraud = pd.read_csv('data/imbalancedFraudDF.csv')\n",
    "\n",
    "fraud.head()"
   ]
  },
  {
   "cell_type": "code",
   "execution_count": 3,
   "id": "2ae09508",
   "metadata": {},
   "outputs": [
    {
     "data": {
      "text/html": [
       "<div>\n",
       "<style scoped>\n",
       "    .dataframe tbody tr th:only-of-type {\n",
       "        vertical-align: middle;\n",
       "    }\n",
       "\n",
       "    .dataframe tbody tr th {\n",
       "        vertical-align: top;\n",
       "    }\n",
       "\n",
       "    .dataframe thead th {\n",
       "        text-align: right;\n",
       "    }\n",
       "</style>\n",
       "<table border=\"1\" class=\"dataframe\">\n",
       "  <thead>\n",
       "    <tr style=\"text-align: right;\">\n",
       "      <th></th>\n",
       "      <th>lower_bound_ip_address</th>\n",
       "      <th>upper_bound_ip_address</th>\n",
       "      <th>country</th>\n",
       "    </tr>\n",
       "  </thead>\n",
       "  <tbody>\n",
       "    <tr>\n",
       "      <th>0</th>\n",
       "      <td>16777216.0</td>\n",
       "      <td>16777471</td>\n",
       "      <td>Australia</td>\n",
       "    </tr>\n",
       "    <tr>\n",
       "      <th>1</th>\n",
       "      <td>16777472.0</td>\n",
       "      <td>16777727</td>\n",
       "      <td>China</td>\n",
       "    </tr>\n",
       "    <tr>\n",
       "      <th>2</th>\n",
       "      <td>16777728.0</td>\n",
       "      <td>16778239</td>\n",
       "      <td>China</td>\n",
       "    </tr>\n",
       "    <tr>\n",
       "      <th>3</th>\n",
       "      <td>16778240.0</td>\n",
       "      <td>16779263</td>\n",
       "      <td>Australia</td>\n",
       "    </tr>\n",
       "    <tr>\n",
       "      <th>4</th>\n",
       "      <td>16779264.0</td>\n",
       "      <td>16781311</td>\n",
       "      <td>China</td>\n",
       "    </tr>\n",
       "  </tbody>\n",
       "</table>\n",
       "</div>"
      ],
      "text/plain": [
       "   lower_bound_ip_address  upper_bound_ip_address    country\n",
       "0              16777216.0                16777471  Australia\n",
       "1              16777472.0                16777727      China\n",
       "2              16777728.0                16778239      China\n",
       "3              16778240.0                16779263  Australia\n",
       "4              16779264.0                16781311      China"
      ]
     },
     "execution_count": 3,
     "metadata": {},
     "output_type": "execute_result"
    }
   ],
   "source": [
    "ip.head()"
   ]
  },
  {
   "cell_type": "code",
   "execution_count": 4,
   "id": "c4feb68f",
   "metadata": {},
   "outputs": [
    {
     "data": {
      "text/plain": [
       "0    136961\n",
       "1      1415\n",
       "Name: class, dtype: int64"
      ]
     },
     "execution_count": 4,
     "metadata": {},
     "output_type": "execute_result"
    }
   ],
   "source": [
    "#Distribution of the label column (imbalanced label)\n",
    "fraud['class'].value_counts()"
   ]
  },
  {
   "cell_type": "code",
   "execution_count": 5,
   "id": "fd4033dc",
   "metadata": {},
   "outputs": [
    {
     "data": {
      "text/plain": [
       "user_id           0\n",
       "signup_time       0\n",
       "purchase_time     0\n",
       "purchase_value    0\n",
       "device_id         0\n",
       "source            0\n",
       "browser           0\n",
       "sex               0\n",
       "age               0\n",
       "ip_address        0\n",
       "class             0\n",
       "dtype: int64"
      ]
     },
     "execution_count": 5,
     "metadata": {},
     "output_type": "execute_result"
    }
   ],
   "source": [
    "fraud.isna().sum()"
   ]
  },
  {
   "cell_type": "markdown",
   "id": "c598d49f",
   "metadata": {},
   "source": [
    "### Identify country info based on ip_address (add country column into fraud table)"
   ]
  },
  {
   "cell_type": "code",
   "execution_count": 6,
   "id": "1d366e2f",
   "metadata": {},
   "outputs": [
    {
     "name": "stdout",
     "output_type": "stream",
     "text": [
      "Lookup took 193.31866121292114 seconds.\n"
     ]
    }
   ],
   "source": [
    "start = time.time()\n",
    "\n",
    "countries = []\n",
    "for i in range(len(fraud)):\n",
    "    ip_address = fraud.loc[i, 'ip_address']#number\n",
    "    #check which interval does ip_address falls into\n",
    "    #below [] is list of T/F, only when this ip_address falls into the correct internal row does the index generate a True\n",
    "    #tmp is a df of shape n * 3, where n is 1 if found a match (ip_address falls in range) or 0 if no match\n",
    "    tmp = ip[(ip['lower_bound_ip_address'] <= ip_address) &\n",
    "                    (ip['upper_bound_ip_address'] >= ip_address)]\n",
    "    if len(tmp) == 1:#found match\n",
    "        countries.append(tmp['country'].values[0])\n",
    "    else:#no match\n",
    "        countries.append('NA')\n",
    "        \n",
    "fraud['country'] = countries\n",
    "runtime = time.time() - start \n",
    "\n",
    "print(\"Lookup took\", runtime, \"seconds.\")\n"
   ]
  },
  {
   "cell_type": "code",
   "execution_count": 7,
   "id": "96670ff9",
   "metadata": {},
   "outputs": [
    {
     "name": "stdout",
     "output_type": "stream",
     "text": [
      "       lower_bound_ip_address  upper_bound_ip_address        country\n",
      "28203            1.686110e+09              1694498815  United States\n"
     ]
    }
   ],
   "source": [
    "ip_address = fraud.loc[6, 'ip_address']\n",
    "tmp = ip[(ip['lower_bound_ip_address'] <= ip_address) &\n",
    "                    (ip['upper_bound_ip_address'] >= ip_address)]\n",
    "print(tmp)"
   ]
  },
  {
   "cell_type": "code",
   "execution_count": 8,
   "id": "85565ec8",
   "metadata": {},
   "outputs": [
    {
     "name": "stdout",
     "output_type": "stream",
     "text": [
      "138376\n",
      "138376\n"
     ]
    }
   ],
   "source": [
    "print(fraud.user_id.nunique())#138376\n",
    "print(len(fraud.index))#138376\n",
    "#all of the user_id has only the first 1 transaction, no way to do time based aggregates, \n",
    "#e.g. amount/counts in past 1 day for this user"
   ]
  },
  {
   "cell_type": "markdown",
   "id": "25d7c342",
   "metadata": {},
   "source": [
    "### Feature Engineering"
   ]
  },
  {
   "cell_type": "code",
   "execution_count": 9,
   "id": "76ade553",
   "metadata": {},
   "outputs": [],
   "source": [
    "#time related features: can be done before split, as they has no interaction between other rows, solely based on other columns of the same row\n",
    "fraud['interval_after_signup'] = (pd.to_datetime(fraud['purchase_time']) - pd.to_datetime(\n",
    "        fraud['signup_time'])).dt.total_seconds()\n",
    "\n",
    "fraud['signup_days_of_year'] = pd.DatetimeIndex(fraud['signup_time']).dayofyear\n",
    "\n",
    "#bed time operation\n",
    "fraud['signup_seconds_of_day'] = pd.DatetimeIndex(fraud['signup_time']).second + 60 * pd.DatetimeIndex(\n",
    "    fraud['signup_time']).minute + 3600 * pd.DatetimeIndex(fraud['signup_time']).hour\n",
    "\n",
    "fraud['purchase_days_of_year'] = pd.DatetimeIndex(fraud['purchase_time']).dayofyear\n",
    "fraud['purchase_seconds_of_day'] = pd.DatetimeIndex(fraud['purchase_time']).second + 60 * pd.DatetimeIndex(\n",
    "    fraud['purchase_time']).minute + 3600 * pd.DatetimeIndex(fraud['purchase_time']).hour"
   ]
  },
  {
   "cell_type": "code",
   "execution_count": 10,
   "id": "1c5d8505",
   "metadata": {},
   "outputs": [
    {
     "data": {
      "text/html": [
       "<div>\n",
       "<style scoped>\n",
       "    .dataframe tbody tr th:only-of-type {\n",
       "        vertical-align: middle;\n",
       "    }\n",
       "\n",
       "    .dataframe tbody tr th {\n",
       "        vertical-align: top;\n",
       "    }\n",
       "\n",
       "    .dataframe thead th {\n",
       "        text-align: right;\n",
       "    }\n",
       "</style>\n",
       "<table border=\"1\" class=\"dataframe\">\n",
       "  <thead>\n",
       "    <tr style=\"text-align: right;\">\n",
       "      <th></th>\n",
       "      <th>user_id</th>\n",
       "      <th>signup_time</th>\n",
       "      <th>purchase_time</th>\n",
       "      <th>purchase_value</th>\n",
       "      <th>device_id</th>\n",
       "      <th>source</th>\n",
       "      <th>browser</th>\n",
       "      <th>sex</th>\n",
       "      <th>age</th>\n",
       "      <th>ip_address</th>\n",
       "      <th>class</th>\n",
       "      <th>country</th>\n",
       "      <th>interval_after_signup</th>\n",
       "      <th>signup_days_of_year</th>\n",
       "      <th>signup_seconds_of_day</th>\n",
       "      <th>purchase_days_of_year</th>\n",
       "      <th>purchase_seconds_of_day</th>\n",
       "    </tr>\n",
       "  </thead>\n",
       "  <tbody>\n",
       "    <tr>\n",
       "      <th>0</th>\n",
       "      <td>22058</td>\n",
       "      <td>2015-02-24 22:55:49</td>\n",
       "      <td>2015-04-18 02:47:11</td>\n",
       "      <td>34</td>\n",
       "      <td>QVPSPJUOCKZAR</td>\n",
       "      <td>SEO</td>\n",
       "      <td>Chrome</td>\n",
       "      <td>M</td>\n",
       "      <td>39</td>\n",
       "      <td>7.327584e+08</td>\n",
       "      <td>0</td>\n",
       "      <td>Japan</td>\n",
       "      <td>4506682.0</td>\n",
       "      <td>55</td>\n",
       "      <td>82549</td>\n",
       "      <td>108</td>\n",
       "      <td>10031</td>\n",
       "    </tr>\n",
       "    <tr>\n",
       "      <th>1</th>\n",
       "      <td>333320</td>\n",
       "      <td>2015-06-07 20:39:50</td>\n",
       "      <td>2015-06-08 01:38:54</td>\n",
       "      <td>16</td>\n",
       "      <td>EOGFQPIZPYXFZ</td>\n",
       "      <td>Ads</td>\n",
       "      <td>Chrome</td>\n",
       "      <td>F</td>\n",
       "      <td>53</td>\n",
       "      <td>3.503114e+08</td>\n",
       "      <td>0</td>\n",
       "      <td>United States</td>\n",
       "      <td>17944.0</td>\n",
       "      <td>158</td>\n",
       "      <td>74390</td>\n",
       "      <td>159</td>\n",
       "      <td>5934</td>\n",
       "    </tr>\n",
       "    <tr>\n",
       "      <th>2</th>\n",
       "      <td>150084</td>\n",
       "      <td>2015-04-28 21:13:25</td>\n",
       "      <td>2015-05-04 13:54:50</td>\n",
       "      <td>44</td>\n",
       "      <td>ATGTXKYKUDUQN</td>\n",
       "      <td>SEO</td>\n",
       "      <td>Safari</td>\n",
       "      <td>M</td>\n",
       "      <td>41</td>\n",
       "      <td>3.840542e+09</td>\n",
       "      <td>0</td>\n",
       "      <td>NA</td>\n",
       "      <td>492085.0</td>\n",
       "      <td>118</td>\n",
       "      <td>76405</td>\n",
       "      <td>124</td>\n",
       "      <td>50090</td>\n",
       "    </tr>\n",
       "    <tr>\n",
       "      <th>3</th>\n",
       "      <td>221365</td>\n",
       "      <td>2015-07-21 07:09:52</td>\n",
       "      <td>2015-09-09 18:40:53</td>\n",
       "      <td>39</td>\n",
       "      <td>NAUITBZFJKHWW</td>\n",
       "      <td>Ads</td>\n",
       "      <td>Safari</td>\n",
       "      <td>M</td>\n",
       "      <td>45</td>\n",
       "      <td>4.155831e+08</td>\n",
       "      <td>0</td>\n",
       "      <td>United States</td>\n",
       "      <td>4361461.0</td>\n",
       "      <td>202</td>\n",
       "      <td>25792</td>\n",
       "      <td>252</td>\n",
       "      <td>67253</td>\n",
       "    </tr>\n",
       "    <tr>\n",
       "      <th>4</th>\n",
       "      <td>159135</td>\n",
       "      <td>2015-05-21 06:03:03</td>\n",
       "      <td>2015-07-09 08:05:14</td>\n",
       "      <td>42</td>\n",
       "      <td>ALEYXFXINSXLZ</td>\n",
       "      <td>Ads</td>\n",
       "      <td>Chrome</td>\n",
       "      <td>M</td>\n",
       "      <td>18</td>\n",
       "      <td>2.809315e+09</td>\n",
       "      <td>0</td>\n",
       "      <td>Canada</td>\n",
       "      <td>4240931.0</td>\n",
       "      <td>141</td>\n",
       "      <td>21783</td>\n",
       "      <td>190</td>\n",
       "      <td>29114</td>\n",
       "    </tr>\n",
       "  </tbody>\n",
       "</table>\n",
       "</div>"
      ],
      "text/plain": [
       "   user_id          signup_time        purchase_time  purchase_value  \\\n",
       "0    22058  2015-02-24 22:55:49  2015-04-18 02:47:11              34   \n",
       "1   333320  2015-06-07 20:39:50  2015-06-08 01:38:54              16   \n",
       "2   150084  2015-04-28 21:13:25  2015-05-04 13:54:50              44   \n",
       "3   221365  2015-07-21 07:09:52  2015-09-09 18:40:53              39   \n",
       "4   159135  2015-05-21 06:03:03  2015-07-09 08:05:14              42   \n",
       "\n",
       "       device_id source browser sex  age    ip_address  class        country  \\\n",
       "0  QVPSPJUOCKZAR    SEO  Chrome   M   39  7.327584e+08      0          Japan   \n",
       "1  EOGFQPIZPYXFZ    Ads  Chrome   F   53  3.503114e+08      0  United States   \n",
       "2  ATGTXKYKUDUQN    SEO  Safari   M   41  3.840542e+09      0             NA   \n",
       "3  NAUITBZFJKHWW    Ads  Safari   M   45  4.155831e+08      0  United States   \n",
       "4  ALEYXFXINSXLZ    Ads  Chrome   M   18  2.809315e+09      0         Canada   \n",
       "\n",
       "   interval_after_signup  signup_days_of_year  signup_seconds_of_day  \\\n",
       "0              4506682.0                   55                  82549   \n",
       "1                17944.0                  158                  74390   \n",
       "2               492085.0                  118                  76405   \n",
       "3              4361461.0                  202                  25792   \n",
       "4              4240931.0                  141                  21783   \n",
       "\n",
       "   purchase_days_of_year  purchase_seconds_of_day  \n",
       "0                    108                    10031  \n",
       "1                    159                     5934  \n",
       "2                    124                    50090  \n",
       "3                    252                    67253  \n",
       "4                    190                    29114  "
      ]
     },
     "execution_count": 10,
     "metadata": {},
     "output_type": "execute_result"
    }
   ],
   "source": [
    "fraud.head()"
   ]
  },
  {
   "cell_type": "code",
   "execution_count": 11,
   "id": "6fae2d6e",
   "metadata": {
    "tags": []
   },
   "outputs": [],
   "source": [
    "fraud = fraud[fraud['country'] != 'NA']"
   ]
  },
  {
   "cell_type": "markdown",
   "id": "2d6a4d42",
   "metadata": {},
   "source": [
    "### Data Exploration"
   ]
  },
  {
   "cell_type": "code",
   "execution_count": 12,
   "id": "5f15ab27",
   "metadata": {},
   "outputs": [
    {
     "data": {
      "text/plain": [
       "SEO       47680\n",
       "Ads       46735\n",
       "Direct    23670\n",
       "Name: source, dtype: int64"
      ]
     },
     "execution_count": 12,
     "metadata": {},
     "output_type": "execute_result"
    }
   ],
   "source": [
    "fraud.source.value_counts()"
   ]
  },
  {
   "cell_type": "code",
   "execution_count": 13,
   "id": "3c412f22",
   "metadata": {},
   "outputs": [
    {
     "data": {
      "text/plain": [
       "user_id                    0\n",
       "signup_time                0\n",
       "purchase_time              0\n",
       "purchase_value             0\n",
       "device_id                  0\n",
       "source                     0\n",
       "browser                    0\n",
       "sex                        0\n",
       "age                        0\n",
       "ip_address                 0\n",
       "class                      0\n",
       "country                    0\n",
       "interval_after_signup      0\n",
       "signup_days_of_year        0\n",
       "signup_seconds_of_day      0\n",
       "purchase_days_of_year      0\n",
       "purchase_seconds_of_day    0\n",
       "dtype: int64"
      ]
     },
     "execution_count": 13,
     "metadata": {},
     "output_type": "execute_result"
    }
   ],
   "source": [
    "fraud.isna().sum()"
   ]
  },
  {
   "cell_type": "code",
   "execution_count": 14,
   "id": "a9d5fe26",
   "metadata": {},
   "outputs": [
    {
     "data": {
      "text/html": [
       "<div>\n",
       "<style scoped>\n",
       "    .dataframe tbody tr th:only-of-type {\n",
       "        vertical-align: middle;\n",
       "    }\n",
       "\n",
       "    .dataframe tbody tr th {\n",
       "        vertical-align: top;\n",
       "    }\n",
       "\n",
       "    .dataframe thead th {\n",
       "        text-align: right;\n",
       "    }\n",
       "</style>\n",
       "<table border=\"1\" class=\"dataframe\">\n",
       "  <thead>\n",
       "    <tr style=\"text-align: right;\">\n",
       "      <th></th>\n",
       "      <th>user_id</th>\n",
       "      <th>purchase_value</th>\n",
       "      <th>age</th>\n",
       "      <th>ip_address</th>\n",
       "      <th>class</th>\n",
       "      <th>interval_after_signup</th>\n",
       "      <th>signup_days_of_year</th>\n",
       "      <th>signup_seconds_of_day</th>\n",
       "      <th>purchase_days_of_year</th>\n",
       "      <th>purchase_seconds_of_day</th>\n",
       "    </tr>\n",
       "  </thead>\n",
       "  <tbody>\n",
       "    <tr>\n",
       "      <th>count</th>\n",
       "      <td>118085.000000</td>\n",
       "      <td>118085.000000</td>\n",
       "      <td>118085.000000</td>\n",
       "      <td>1.180850e+05</td>\n",
       "      <td>118085.000000</td>\n",
       "      <td>1.180850e+05</td>\n",
       "      <td>118085.000000</td>\n",
       "      <td>118085.000000</td>\n",
       "      <td>118085.000000</td>\n",
       "      <td>118085.000000</td>\n",
       "    </tr>\n",
       "    <tr>\n",
       "      <th>mean</th>\n",
       "      <td>200099.686074</td>\n",
       "      <td>36.936486</td>\n",
       "      <td>33.115713</td>\n",
       "      <td>1.891756e+09</td>\n",
       "      <td>0.010221</td>\n",
       "      <td>5.165250e+06</td>\n",
       "      <td>114.328179</td>\n",
       "      <td>43177.121413</td>\n",
       "      <td>174.110514</td>\n",
       "      <td>43233.322598</td>\n",
       "    </tr>\n",
       "    <tr>\n",
       "      <th>std</th>\n",
       "      <td>115242.569247</td>\n",
       "      <td>18.324193</td>\n",
       "      <td>8.616206</td>\n",
       "      <td>1.086133e+09</td>\n",
       "      <td>0.100584</td>\n",
       "      <td>3.004907e+06</td>\n",
       "      <td>66.409950</td>\n",
       "      <td>24927.365275</td>\n",
       "      <td>75.439097</td>\n",
       "      <td>24927.621066</td>\n",
       "    </tr>\n",
       "    <tr>\n",
       "      <th>min</th>\n",
       "      <td>2.000000</td>\n",
       "      <td>9.000000</td>\n",
       "      <td>18.000000</td>\n",
       "      <td>1.677886e+07</td>\n",
       "      <td>0.000000</td>\n",
       "      <td>1.000000e+00</td>\n",
       "      <td>1.000000</td>\n",
       "      <td>0.000000</td>\n",
       "      <td>1.000000</td>\n",
       "      <td>0.000000</td>\n",
       "    </tr>\n",
       "    <tr>\n",
       "      <th>25%</th>\n",
       "      <td>100775.000000</td>\n",
       "      <td>22.000000</td>\n",
       "      <td>27.000000</td>\n",
       "      <td>9.546694e+08</td>\n",
       "      <td>0.000000</td>\n",
       "      <td>2.553063e+06</td>\n",
       "      <td>57.000000</td>\n",
       "      <td>21547.000000</td>\n",
       "      <td>117.000000</td>\n",
       "      <td>21712.000000</td>\n",
       "    </tr>\n",
       "    <tr>\n",
       "      <th>50%</th>\n",
       "      <td>199954.000000</td>\n",
       "      <td>35.000000</td>\n",
       "      <td>33.000000</td>\n",
       "      <td>1.895747e+09</td>\n",
       "      <td>0.000000</td>\n",
       "      <td>5.171089e+06</td>\n",
       "      <td>114.000000</td>\n",
       "      <td>43270.000000</td>\n",
       "      <td>174.000000</td>\n",
       "      <td>43311.000000</td>\n",
       "    </tr>\n",
       "    <tr>\n",
       "      <th>75%</th>\n",
       "      <td>299747.000000</td>\n",
       "      <td>49.000000</td>\n",
       "      <td>39.000000</td>\n",
       "      <td>2.833018e+09</td>\n",
       "      <td>0.000000</td>\n",
       "      <td>7.767742e+06</td>\n",
       "      <td>172.000000</td>\n",
       "      <td>64683.000000</td>\n",
       "      <td>232.000000</td>\n",
       "      <td>64756.000000</td>\n",
       "    </tr>\n",
       "    <tr>\n",
       "      <th>max</th>\n",
       "      <td>400000.000000</td>\n",
       "      <td>154.000000</td>\n",
       "      <td>76.000000</td>\n",
       "      <td>3.758053e+09</td>\n",
       "      <td>1.000000</td>\n",
       "      <td>1.036797e+07</td>\n",
       "      <td>230.000000</td>\n",
       "      <td>86398.000000</td>\n",
       "      <td>350.000000</td>\n",
       "      <td>86399.000000</td>\n",
       "    </tr>\n",
       "  </tbody>\n",
       "</table>\n",
       "</div>"
      ],
      "text/plain": [
       "             user_id  purchase_value            age    ip_address  \\\n",
       "count  118085.000000   118085.000000  118085.000000  1.180850e+05   \n",
       "mean   200099.686074       36.936486      33.115713  1.891756e+09   \n",
       "std    115242.569247       18.324193       8.616206  1.086133e+09   \n",
       "min         2.000000        9.000000      18.000000  1.677886e+07   \n",
       "25%    100775.000000       22.000000      27.000000  9.546694e+08   \n",
       "50%    199954.000000       35.000000      33.000000  1.895747e+09   \n",
       "75%    299747.000000       49.000000      39.000000  2.833018e+09   \n",
       "max    400000.000000      154.000000      76.000000  3.758053e+09   \n",
       "\n",
       "               class  interval_after_signup  signup_days_of_year  \\\n",
       "count  118085.000000           1.180850e+05        118085.000000   \n",
       "mean        0.010221           5.165250e+06           114.328179   \n",
       "std         0.100584           3.004907e+06            66.409950   \n",
       "min         0.000000           1.000000e+00             1.000000   \n",
       "25%         0.000000           2.553063e+06            57.000000   \n",
       "50%         0.000000           5.171089e+06           114.000000   \n",
       "75%         0.000000           7.767742e+06           172.000000   \n",
       "max         1.000000           1.036797e+07           230.000000   \n",
       "\n",
       "       signup_seconds_of_day  purchase_days_of_year  purchase_seconds_of_day  \n",
       "count          118085.000000          118085.000000            118085.000000  \n",
       "mean            43177.121413             174.110514             43233.322598  \n",
       "std             24927.365275              75.439097             24927.621066  \n",
       "min                 0.000000               1.000000                 0.000000  \n",
       "25%             21547.000000             117.000000             21712.000000  \n",
       "50%             43270.000000             174.000000             43311.000000  \n",
       "75%             64683.000000             232.000000             64756.000000  \n",
       "max             86398.000000             350.000000             86399.000000  "
      ]
     },
     "execution_count": 14,
     "metadata": {},
     "output_type": "execute_result"
    }
   ],
   "source": [
    "fraud.describe()"
   ]
  },
  {
   "cell_type": "code",
   "execution_count": 15,
   "id": "5dd25a78",
   "metadata": {},
   "outputs": [
    {
     "data": {
      "text/plain": [
       "118085"
      ]
     },
     "execution_count": 15,
     "metadata": {},
     "output_type": "execute_result"
    }
   ],
   "source": [
    "len(fraud.index.unique())"
   ]
  },
  {
   "cell_type": "code",
   "execution_count": 16,
   "id": "967dab0f",
   "metadata": {},
   "outputs": [
    {
     "data": {
      "text/html": [
       "<div>\n",
       "<style scoped>\n",
       "    .dataframe tbody tr th:only-of-type {\n",
       "        vertical-align: middle;\n",
       "    }\n",
       "\n",
       "    .dataframe tbody tr th {\n",
       "        vertical-align: top;\n",
       "    }\n",
       "\n",
       "    .dataframe thead th {\n",
       "        text-align: right;\n",
       "    }\n",
       "</style>\n",
       "<table border=\"1\" class=\"dataframe\">\n",
       "  <thead>\n",
       "    <tr style=\"text-align: right;\">\n",
       "      <th></th>\n",
       "      <th>device_id</th>\n",
       "      <th>purchase_value</th>\n",
       "    </tr>\n",
       "  </thead>\n",
       "  <tbody>\n",
       "    <tr>\n",
       "      <th>0</th>\n",
       "      <td>FMSUVPZFDTJDV</td>\n",
       "      <td>404</td>\n",
       "    </tr>\n",
       "    <tr>\n",
       "      <th>1</th>\n",
       "      <td>EQYVNEGOFLAWK</td>\n",
       "      <td>335</td>\n",
       "    </tr>\n",
       "    <tr>\n",
       "      <th>2</th>\n",
       "      <td>JGYUBNPJHXFEH</td>\n",
       "      <td>325</td>\n",
       "    </tr>\n",
       "    <tr>\n",
       "      <th>3</th>\n",
       "      <td>NTHQAIEGOVNVU</td>\n",
       "      <td>316</td>\n",
       "    </tr>\n",
       "    <tr>\n",
       "      <th>4</th>\n",
       "      <td>LNNVFASCXXQEM</td>\n",
       "      <td>300</td>\n",
       "    </tr>\n",
       "  </tbody>\n",
       "</table>\n",
       "</div>"
      ],
      "text/plain": [
       "       device_id  purchase_value\n",
       "0  FMSUVPZFDTJDV             404\n",
       "1  EQYVNEGOFLAWK             335\n",
       "2  JGYUBNPJHXFEH             325\n",
       "3  NTHQAIEGOVNVU             316\n",
       "4  LNNVFASCXXQEM             300"
      ]
     },
     "execution_count": 16,
     "metadata": {},
     "output_type": "execute_result"
    }
   ],
   "source": [
    "device_pv = pd.DataFrame(fraud[['device_id','purchase_value']].groupby('device_id').sum()\n",
    "                         .sort_values(by='purchase_value',ascending=False))\n",
    "device_pv.reset_index(inplace=True)\n",
    "\n",
    "device_pv.head()"
   ]
  },
  {
   "cell_type": "code",
   "execution_count": 17,
   "id": "13c27289",
   "metadata": {},
   "outputs": [
    {
     "name": "stderr",
     "output_type": "stream",
     "text": [
      "C:\\ProgramData\\Anaconda3\\lib\\site-packages\\seaborn\\distributions.py:2557: FutureWarning: `distplot` is a deprecated function and will be removed in a future version. Please adapt your code to use either `displot` (a figure-level function with similar flexibility) or `histplot` (an axes-level function for histograms).\n",
      "  warnings.warn(msg, FutureWarning)\n"
     ]
    },
    {
     "data": {
      "image/png": "[encoded data removed]",
      "text/plain": [
       "<Figure size 792x288 with 2 Axes>"
      ]
     },
     "metadata": {},
     "output_type": "display_data"
    }
   ],
   "source": [
    "f, (ax1, ax2) = plt.subplots(1,2,figsize=(11,4))\n",
    "sns.distplot(device_pv['purchase_value'],ax=ax1)\n",
    "ax2.hist(device_pv['purchase_value'],bins=30)\n",
    "ax1.set_title(\"Distribution of Total Purchase Amount by Devic ID\",fontsize=10)\n",
    "ax2.set_title(\"Frequencies of Total Purchase Amount by Devic ID\",fontsize=10);"
   ]
  },
  {
   "cell_type": "markdown",
   "id": "4414345a",
   "metadata": {},
   "source": [
    "Define a function to visually inspect unique values in features:"
   ]
  },
  {
   "cell_type": "code",
   "execution_count": 18,
   "id": "95ca7191",
   "metadata": {},
   "outputs": [],
   "source": [
    "def create_eda_bar(col):\n",
    "    plt.figure(figsize=(6,4))\n",
    "    ax = sns.barplot(fraud[col].unique(),fraud[col].value_counts())\n",
    "    for p in ax.patches:\n",
    "        ax.annotate('{:.0f}'.format(p.get_height()), (p.get_x()+0.3, p.get_height()+1000),fontsize=12)\n",
    "    ax.set_title(\"Unqiue Values and Counts of \" + col[0].upper() + col[1:],fontsize=14)"
   ]
  },
  {
   "cell_type": "code",
   "execution_count": 19,
   "id": "dfe4a1c4",
   "metadata": {},
   "outputs": [
    {
     "name": "stderr",
     "output_type": "stream",
     "text": [
      "C:\\ProgramData\\Anaconda3\\lib\\site-packages\\seaborn\\_decorators.py:36: FutureWarning: Pass the following variables as keyword args: x, y. From version 0.12, the only valid positional argument will be `data`, and passing other arguments without an explicit keyword will result in an error or misinterpretation.\n",
      "  warnings.warn(\n"
     ]
    },
    {
     "data": {
      "image/png": "[encoded data removed]",
      "text/plain": [
       "<Figure size 432x288 with 1 Axes>"
      ]
     },
     "metadata": {},
     "output_type": "display_data"
    }
   ],
   "source": [
    "create_eda_bar('source')"
   ]
  },
  {
   "cell_type": "code",
   "execution_count": 20,
   "id": "896afbb6",
   "metadata": {},
   "outputs": [
    {
     "name": "stderr",
     "output_type": "stream",
     "text": [
      "C:\\ProgramData\\Anaconda3\\lib\\site-packages\\seaborn\\_decorators.py:36: FutureWarning: Pass the following variables as keyword args: x, y. From version 0.12, the only valid positional argument will be `data`, and passing other arguments without an explicit keyword will result in an error or misinterpretation.\n",
      "  warnings.warn(\n"
     ]
    },
    {
     "data": {
      "image/png": "[encoded data removed]",
      "text/plain": [
       "<Figure size 432x288 with 1 Axes>"
      ]
     },
     "metadata": {},
     "output_type": "display_data"
    }
   ],
   "source": [
    "create_eda_bar('browser')"
   ]
  },
  {
   "cell_type": "code",
   "execution_count": 21,
   "id": "b0d3d4e7",
   "metadata": {},
   "outputs": [
    {
     "name": "stderr",
     "output_type": "stream",
     "text": [
      "C:\\ProgramData\\Anaconda3\\lib\\site-packages\\seaborn\\_decorators.py:36: FutureWarning: Pass the following variables as keyword args: x, y. From version 0.12, the only valid positional argument will be `data`, and passing other arguments without an explicit keyword will result in an error or misinterpretation.\n",
      "  warnings.warn(\n"
     ]
    },
    {
     "data": {
      "image/png": "[encoded data removed]",
      "text/plain": [
       "<Figure size 432x288 with 1 Axes>"
      ]
     },
     "metadata": {},
     "output_type": "display_data"
    }
   ],
   "source": [
    "create_eda_bar('sex')"
   ]
  },
  {
   "cell_type": "code",
   "execution_count": 22,
   "id": "3274521f",
   "metadata": {},
   "outputs": [
    {
     "name": "stderr",
     "output_type": "stream",
     "text": [
      "C:\\ProgramData\\Anaconda3\\lib\\site-packages\\seaborn\\_decorators.py:36: FutureWarning: Pass the following variables as keyword args: x, y. From version 0.12, the only valid positional argument will be `data`, and passing other arguments without an explicit keyword will result in an error or misinterpretation.\n",
      "  warnings.warn(\n"
     ]
    },
    {
     "data": {
      "image/png": "[encoded data removed]",
      "text/plain": [
       "<Figure size 432x288 with 1 Axes>"
      ]
     },
     "metadata": {},
     "output_type": "display_data"
    }
   ],
   "source": [
    "create_eda_bar('class')"
   ]
  },
  {
   "cell_type": "code",
   "execution_count": 23,
   "id": "ff8efc9e",
   "metadata": {},
   "outputs": [
    {
     "data": {
      "text/plain": [
       "0    0.989779\n",
       "1    0.010221\n",
       "Name: class, dtype: float64"
      ]
     },
     "execution_count": 23,
     "metadata": {},
     "output_type": "execute_result"
    }
   ],
   "source": [
    "fraud['class'].value_counts(normalize=True)"
   ]
  },
  {
   "cell_type": "code",
   "execution_count": 24,
   "id": "2663ce6f",
   "metadata": {},
   "outputs": [
    {
     "name": "stderr",
     "output_type": "stream",
     "text": [
      "C:\\ProgramData\\Anaconda3\\lib\\site-packages\\seaborn\\_decorators.py:36: FutureWarning: Pass the following variables as keyword args: x, y. From version 0.12, the only valid positional argument will be `data`, and passing other arguments without an explicit keyword will result in an error or misinterpretation.\n",
      "  warnings.warn(\n"
     ]
    },
    {
     "data": {
      "image/png": "[encoded data removed]",
      "text/plain": [
       "<Figure size 1080x432 with 1 Axes>"
      ]
     },
     "metadata": {},
     "output_type": "display_data"
    }
   ],
   "source": [
    "plt.figure(figsize=(15,6))\n",
    "ax = sns.barplot(fraud['age'].unique(),fraud['age'].value_counts())\n",
    "for p in ax.patches:\n",
    "    ax.annotate('{:.0f}'.format(p.get_height()), (p.get_x()+0.3, p.get_height()+100),fontsize=12)\n",
    "ax.set_title(\"Unqiue Values and Counts of Age\",fontsize=16);"
   ]
  },
  {
   "cell_type": "code",
   "execution_count": 25,
   "id": "76dbe4c5",
   "metadata": {},
   "outputs": [
    {
     "data": {
      "image/png": "[encoded data removed]",
      "text/plain": [
       "<Figure size 432x288 with 1 Axes>"
      ]
     },
     "metadata": {},
     "output_type": "display_data"
    }
   ],
   "source": [
    "plt.hist(fraud['age'],bins=30);"
   ]
  },
  {
   "cell_type": "code",
   "execution_count": 26,
   "id": "0566dd3e",
   "metadata": {},
   "outputs": [
    {
     "data": {
      "text/html": [
       "<div>\n",
       "<style scoped>\n",
       "    .dataframe tbody tr th:only-of-type {\n",
       "        vertical-align: middle;\n",
       "    }\n",
       "\n",
       "    .dataframe tbody tr th {\n",
       "        vertical-align: top;\n",
       "    }\n",
       "\n",
       "    .dataframe thead th {\n",
       "        text-align: right;\n",
       "    }\n",
       "</style>\n",
       "<table border=\"1\" class=\"dataframe\">\n",
       "  <thead>\n",
       "    <tr style=\"text-align: right;\">\n",
       "      <th></th>\n",
       "      <th>purchase_value</th>\n",
       "    </tr>\n",
       "    <tr>\n",
       "      <th>class</th>\n",
       "      <th></th>\n",
       "    </tr>\n",
       "  </thead>\n",
       "  <tbody>\n",
       "    <tr>\n",
       "      <th>0</th>\n",
       "      <td>36.926342</td>\n",
       "    </tr>\n",
       "    <tr>\n",
       "      <th>1</th>\n",
       "      <td>37.918807</td>\n",
       "    </tr>\n",
       "  </tbody>\n",
       "</table>\n",
       "</div>"
      ],
      "text/plain": [
       "       purchase_value\n",
       "class                \n",
       "0           36.926342\n",
       "1           37.918807"
      ]
     },
     "execution_count": 26,
     "metadata": {},
     "output_type": "execute_result"
    }
   ],
   "source": [
    "#Average purchase_value for each\n",
    "fraud[['purchase_value','class']].groupby('class').mean()"
   ]
  },
  {
   "cell_type": "code",
   "execution_count": 27,
   "id": "dedc67a5",
   "metadata": {},
   "outputs": [],
   "source": [
    "#Convert signup_time and purchase_time to datetime,\n",
    "fraud['signup_time'] = pd.to_datetime(fraud['signup_time'])\n",
    "fraud['purchase_time'] = pd.to_datetime(fraud['purchase_time'])"
   ]
  },
  {
   "cell_type": "code",
   "execution_count": 28,
   "id": "1038613c",
   "metadata": {},
   "outputs": [
    {
     "data": {
      "text/plain": [
       "(Timestamp('2015-01-01 00:00:42'), Timestamp('2015-08-18 04:40:29'))"
      ]
     },
     "execution_count": 28,
     "metadata": {},
     "output_type": "execute_result"
    }
   ],
   "source": [
    "fraud['signup_time'].min(), fraud['signup_time'].max()"
   ]
  },
  {
   "cell_type": "code",
   "execution_count": 29,
   "id": "15f8206c",
   "metadata": {},
   "outputs": [
    {
     "data": {
      "text/plain": [
       "(Timestamp('2015-01-01 00:00:47'), Timestamp('2015-12-16 02:56:05'))"
      ]
     },
     "execution_count": 29,
     "metadata": {},
     "output_type": "execute_result"
    }
   ],
   "source": [
    "fraud['purchase_time'].min(), fraud['purchase_time'].max()"
   ]
  },
  {
   "cell_type": "code",
   "execution_count": 30,
   "id": "1c58d79e",
   "metadata": {},
   "outputs": [
    {
     "data": {
      "image/png": "[encoded data removed]",
      "text/plain": [
       "<Figure size 720x288 with 1 Axes>"
      ]
     },
     "metadata": {},
     "output_type": "display_data"
    }
   ],
   "source": [
    "plt.figure(figsize=(10,4))\n",
    "plt.hist(fraud['signup_time'][fraud['class']==1],bins=30,alpha=0.7, label=\"Signup Time\")\n",
    "plt.hist(fraud['purchase_time'][fraud['class']==1],bins=30,alpha=0.5,label=\"Purchase Time\")\n",
    "plt.title(\"Frequencys of Signup & Purchase Time for Fraudulent Transactions\",fontsize=16)\n",
    "plt.legend();"
   ]
  },
  {
   "cell_type": "code",
   "execution_count": 31,
   "id": "15132ce2",
   "metadata": {},
   "outputs": [
    {
     "data": {
      "image/png": "[encoded data removed]",
      "text/plain": [
       "<Figure size 720x288 with 1 Axes>"
      ]
     },
     "metadata": {},
     "output_type": "display_data"
    }
   ],
   "source": [
    "plt.figure(figsize=(10,4))\n",
    "plt.hist(fraud['signup_time'][fraud['class']==0],bins=30,alpha=0.7, label=\"Signup Time\")\n",
    "plt.hist(fraud['purchase_time'][fraud['class']==0],bins=30,alpha=0.5,label=\"Purchase Time\")\n",
    "plt.title(\"Frequencys of Signup & Purchase Time for Legitimate Transactions\",fontsize=16)\n",
    "plt.legend();"
   ]
  },
  {
   "cell_type": "markdown",
   "id": "c7e3899b",
   "metadata": {},
   "source": [
    "Define a function to plot categories of fraudulent vs legitimate transactions"
   ]
  },
  {
   "cell_type": "code",
   "execution_count": 32,
   "id": "1e19546c",
   "metadata": {},
   "outputs": [],
   "source": [
    "def fraud_no_fraud_chart(col):\n",
    "    df1 = pd.DataFrame(fraud[fraud['class']==1].groupby(col).count())\n",
    "    df0 = pd.DataFrame(fraud[fraud['class']==0].groupby(col).count())\n",
    "    \n",
    "    fig, ax = plt.subplots(1,2,figsize=(14,5),sharey=True)\n",
    "    \n",
    "    sns.barplot(df1.index.unique(),df1['class'],ax=ax[0])\n",
    "    sns.barplot(df0.index.unique(),df0['class'],ax=ax[1])\n",
    "    ax[0].set_title(col[0].upper() + col[1:] + \" for Fraudulent Transactions\",fontsize=14)\n",
    "    ax[1].set_title(col[0].upper() + col[1:] + \" for Legitimate Transactions\",fontsize=14);"
   ]
  },
  {
   "cell_type": "code",
   "execution_count": 33,
   "id": "5b546c62",
   "metadata": {},
   "outputs": [
    {
     "name": "stderr",
     "output_type": "stream",
     "text": [
      "C:\\ProgramData\\Anaconda3\\lib\\site-packages\\seaborn\\_decorators.py:36: FutureWarning: Pass the following variables as keyword args: x, y. From version 0.12, the only valid positional argument will be `data`, and passing other arguments without an explicit keyword will result in an error or misinterpretation.\n",
      "  warnings.warn(\n",
      "C:\\ProgramData\\Anaconda3\\lib\\site-packages\\seaborn\\_decorators.py:36: FutureWarning: Pass the following variables as keyword args: x, y. From version 0.12, the only valid positional argument will be `data`, and passing other arguments without an explicit keyword will result in an error or misinterpretation.\n",
      "  warnings.warn(\n"
     ]
    },
    {
     "data": {
      "image/png": "[encoded data removed]",
      "text/plain": [
       "<Figure size 1008x360 with 2 Axes>"
      ]
     },
     "metadata": {},
     "output_type": "display_data"
    }
   ],
   "source": [
    "fraud_no_fraud_chart('browser')"
   ]
  },
  {
   "cell_type": "code",
   "execution_count": 34,
   "id": "c86d5c93",
   "metadata": {},
   "outputs": [
    {
     "name": "stderr",
     "output_type": "stream",
     "text": [
      "C:\\ProgramData\\Anaconda3\\lib\\site-packages\\seaborn\\_decorators.py:36: FutureWarning: Pass the following variables as keyword args: x, y. From version 0.12, the only valid positional argument will be `data`, and passing other arguments without an explicit keyword will result in an error or misinterpretation.\n",
      "  warnings.warn(\n",
      "C:\\ProgramData\\Anaconda3\\lib\\site-packages\\seaborn\\_decorators.py:36: FutureWarning: Pass the following variables as keyword args: x, y. From version 0.12, the only valid positional argument will be `data`, and passing other arguments without an explicit keyword will result in an error or misinterpretation.\n",
      "  warnings.warn(\n"
     ]
    },
    {
     "data": {
      "image/png": "[encoded data removed]",
      "text/plain": [
       "<Figure size 1008x360 with 2 Axes>"
      ]
     },
     "metadata": {},
     "output_type": "display_data"
    }
   ],
   "source": [
    "fraud_no_fraud_chart('source')"
   ]
  },
  {
   "cell_type": "code",
   "execution_count": 35,
   "id": "e03434a2",
   "metadata": {},
   "outputs": [
    {
     "name": "stderr",
     "output_type": "stream",
     "text": [
      "C:\\ProgramData\\Anaconda3\\lib\\site-packages\\seaborn\\_decorators.py:36: FutureWarning: Pass the following variables as keyword args: x, y. From version 0.12, the only valid positional argument will be `data`, and passing other arguments without an explicit keyword will result in an error or misinterpretation.\n",
      "  warnings.warn(\n",
      "C:\\ProgramData\\Anaconda3\\lib\\site-packages\\seaborn\\_decorators.py:36: FutureWarning: Pass the following variables as keyword args: x, y. From version 0.12, the only valid positional argument will be `data`, and passing other arguments without an explicit keyword will result in an error or misinterpretation.\n",
      "  warnings.warn(\n"
     ]
    },
    {
     "data": {
      "image/png": "[encoded data removed]",
      "text/plain": [
       "<Figure size 1008x360 with 2 Axes>"
      ]
     },
     "metadata": {},
     "output_type": "display_data"
    }
   ],
   "source": [
    "fraud_no_fraud_chart('sex')"
   ]
  },
  {
   "cell_type": "code",
   "execution_count": 36,
   "id": "307985e0",
   "metadata": {
    "tags": []
   },
   "outputs": [
    {
     "name": "stderr",
     "output_type": "stream",
     "text": [
      "C:\\ProgramData\\Anaconda3\\lib\\site-packages\\seaborn\\_decorators.py:36: FutureWarning: Pass the following variables as keyword args: x, y. From version 0.12, the only valid positional argument will be `data`, and passing other arguments without an explicit keyword will result in an error or misinterpretation.\n",
      "  warnings.warn(\n",
      "C:\\ProgramData\\Anaconda3\\lib\\site-packages\\seaborn\\_decorators.py:36: FutureWarning: Pass the following variables as keyword args: x, y. From version 0.12, the only valid positional argument will be `data`, and passing other arguments without an explicit keyword will result in an error or misinterpretation.\n",
      "  warnings.warn(\n"
     ]
    },
    {
     "data": {
      "image/png": "[encoded data removed]",
      "text/plain": [
       "<Figure size 1008x360 with 2 Axes>"
      ]
     },
     "metadata": {},
     "output_type": "display_data"
    }
   ],
   "source": [
    "fraud_no_fraud_chart('age')"
   ]
  },
  {
   "cell_type": "code",
   "execution_count": 37,
   "id": "02f0e409",
   "metadata": {},
   "outputs": [
    {
     "data": {
      "image/png": "[encoded data removed]",
      "text/plain": [
       "<Figure size 1008x360 with 2 Axes>"
      ]
     },
     "metadata": {},
     "output_type": "display_data"
    }
   ],
   "source": [
    "fig, ax = plt.subplots(1,2, figsize = (14,5),sharey=True)\n",
    "ax[0].hist(fraud['signup_time'][fraud['class']==1],bins=15)\n",
    "ax[0].set_title(\"Frequency of Signup Times for Fraudulent purchases\",fontsize=14)\n",
    "ax[1].hist(fraud['signup_time'][fraud['class']==0],bins=15)\n",
    "ax[1].set_title(\"Frequency of Signup Times for Legimate purchases\",fontsize=14);"
   ]
  },
  {
   "cell_type": "code",
   "execution_count": 38,
   "id": "c087f449",
   "metadata": {},
   "outputs": [
    {
     "data": {
      "image/png": "[encoded data removed]",
      "text/plain": [
       "<Figure size 1008x360 with 2 Axes>"
      ]
     },
     "metadata": {},
     "output_type": "display_data"
    }
   ],
   "source": [
    "fig, ax = plt.subplots(1,2, figsize = (14,5),sharey=True)\n",
    "ax[0].hist(fraud['purchase_time'][fraud['class']==1],bins=20)\n",
    "ax[0].set_title(\"Frequency of Purchase times for fraudulent purchases\",fontsize=14)\n",
    "ax[1].hist(fraud['purchase_time'][fraud['class']==0],bins=20)\n",
    "ax[1].set_title(\"Frequency of Purchase times for legimate purchases\",fontsize=14);"
   ]
  },
  {
   "cell_type": "markdown",
   "id": "196c21d8",
   "metadata": {},
   "source": [
    "### Countries:"
   ]
  },
  {
   "cell_type": "code",
   "execution_count": 39,
   "id": "14cc2340",
   "metadata": {},
   "outputs": [
    {
     "data": {
      "text/plain": [
       "180"
      ]
     },
     "execution_count": 39,
     "metadata": {},
     "output_type": "execute_result"
    }
   ],
   "source": [
    "len(fraud['country'].sort_values().unique())"
   ]
  },
  {
   "cell_type": "code",
   "execution_count": 40,
   "id": "a8ecf48b",
   "metadata": {},
   "outputs": [],
   "source": [
    "#Total Transactions \n",
    "totals_by_country = fraud[['country','class']].groupby('country').count().sort_values('class',ascending=False)\n",
    "#total_by_country\n",
    "\n",
    "#Fraudulent Transactions by country\n",
    "fraud_by_country = fraud[['country','class']][fraud['class']==1].groupby('country').count().sort_values('class',ascending=False)\n",
    "fraud_by_country.reset_index(inplace=True)\n",
    "\n",
    "rate_df = pd.DataFrame(totals_by_country)\n",
    "rate_df.reset_index(inplace=True)\n",
    "rate_df2 = rate_df.merge(fraud_by_country,on='country')\n",
    "rate_df2['ratio'] = rate_df2['class_y']/rate_df2['class_x']\n",
    "rate_df2.rename(columns={'class_x':'total_transactions','class_y':'total_fraudulent'},inplace=True)"
   ]
  },
  {
   "cell_type": "code",
   "execution_count": 41,
   "id": "e85640d8",
   "metadata": {},
   "outputs": [
    {
     "data": {
      "text/html": [
       "<div>\n",
       "<style scoped>\n",
       "    .dataframe tbody tr th:only-of-type {\n",
       "        vertical-align: middle;\n",
       "    }\n",
       "\n",
       "    .dataframe tbody tr th {\n",
       "        vertical-align: top;\n",
       "    }\n",
       "\n",
       "    .dataframe thead th {\n",
       "        text-align: right;\n",
       "    }\n",
       "</style>\n",
       "<table border=\"1\" class=\"dataframe\">\n",
       "  <thead>\n",
       "    <tr style=\"text-align: right;\">\n",
       "      <th></th>\n",
       "      <th>country</th>\n",
       "      <th>total_transactions</th>\n",
       "      <th>total_fraudulent</th>\n",
       "      <th>ratio</th>\n",
       "    </tr>\n",
       "  </thead>\n",
       "  <tbody>\n",
       "    <tr>\n",
       "      <th>68</th>\n",
       "      <td>Uzbekistan</td>\n",
       "      <td>9</td>\n",
       "      <td>1</td>\n",
       "      <td>0.111111</td>\n",
       "    </tr>\n",
       "    <tr>\n",
       "      <th>67</th>\n",
       "      <td>Sri Lanka</td>\n",
       "      <td>20</td>\n",
       "      <td>2</td>\n",
       "      <td>0.100000</td>\n",
       "    </tr>\n",
       "    <tr>\n",
       "      <th>63</th>\n",
       "      <td>Luxembourg</td>\n",
       "      <td>47</td>\n",
       "      <td>3</td>\n",
       "      <td>0.063830</td>\n",
       "    </tr>\n",
       "    <tr>\n",
       "      <th>50</th>\n",
       "      <td>Peru</td>\n",
       "      <td>93</td>\n",
       "      <td>5</td>\n",
       "      <td>0.053763</td>\n",
       "    </tr>\n",
       "    <tr>\n",
       "      <th>49</th>\n",
       "      <td>United Arab Emirates</td>\n",
       "      <td>103</td>\n",
       "      <td>5</td>\n",
       "      <td>0.048544</td>\n",
       "    </tr>\n",
       "    <tr>\n",
       "      <th>...</th>\n",
       "      <td>...</td>\n",
       "      <td>...</td>\n",
       "      <td>...</td>\n",
       "      <td>...</td>\n",
       "    </tr>\n",
       "    <tr>\n",
       "      <th>12</th>\n",
       "      <td>Russian Federation</td>\n",
       "      <td>1490</td>\n",
       "      <td>8</td>\n",
       "      <td>0.005369</td>\n",
       "    </tr>\n",
       "    <tr>\n",
       "      <th>42</th>\n",
       "      <td>Portugal</td>\n",
       "      <td>220</td>\n",
       "      <td>1</td>\n",
       "      <td>0.004545</td>\n",
       "    </tr>\n",
       "    <tr>\n",
       "      <th>14</th>\n",
       "      <td>Taiwan; Republic of China (ROC)</td>\n",
       "      <td>1143</td>\n",
       "      <td>5</td>\n",
       "      <td>0.004374</td>\n",
       "    </tr>\n",
       "    <tr>\n",
       "      <th>38</th>\n",
       "      <td>Thailand</td>\n",
       "      <td>273</td>\n",
       "      <td>1</td>\n",
       "      <td>0.003663</td>\n",
       "    </tr>\n",
       "    <tr>\n",
       "      <th>32</th>\n",
       "      <td>Ukraine</td>\n",
       "      <td>380</td>\n",
       "      <td>1</td>\n",
       "      <td>0.002632</td>\n",
       "    </tr>\n",
       "  </tbody>\n",
       "</table>\n",
       "<p>69 rows × 4 columns</p>\n",
       "</div>"
      ],
      "text/plain": [
       "                            country  total_transactions  total_fraudulent  \\\n",
       "68                       Uzbekistan                   9                 1   \n",
       "67                        Sri Lanka                  20                 2   \n",
       "63                       Luxembourg                  47                 3   \n",
       "50                             Peru                  93                 5   \n",
       "49             United Arab Emirates                 103                 5   \n",
       "..                              ...                 ...               ...   \n",
       "12               Russian Federation                1490                 8   \n",
       "42                         Portugal                 220                 1   \n",
       "14  Taiwan; Republic of China (ROC)                1143                 5   \n",
       "38                         Thailand                 273                 1   \n",
       "32                          Ukraine                 380                 1   \n",
       "\n",
       "       ratio  \n",
       "68  0.111111  \n",
       "67  0.100000  \n",
       "63  0.063830  \n",
       "50  0.053763  \n",
       "49  0.048544  \n",
       "..       ...  \n",
       "12  0.005369  \n",
       "42  0.004545  \n",
       "14  0.004374  \n",
       "38  0.003663  \n",
       "32  0.002632  \n",
       "\n",
       "[69 rows x 4 columns]"
      ]
     },
     "execution_count": 41,
     "metadata": {},
     "output_type": "execute_result"
    }
   ],
   "source": [
    "#Countries sorted by ratio of fraudulent transactions \n",
    "rate_df3 = rate_df2.sort_values('ratio',ascending=False)\n",
    "rate_df3"
   ]
  },
  {
   "cell_type": "code",
   "execution_count": 42,
   "id": "293e56e0",
   "metadata": {},
   "outputs": [
    {
     "data": {
      "text/plain": [
       "Text(0.5, 1.0, 'Users in top 10 countries')"
      ]
     },
     "execution_count": 42,
     "metadata": {},
     "output_type": "execute_result"
    },
    {
     "data": {
      "image/png": "[encoded data removed]",
      "text/plain": [
       "<Figure size 432x288 with 1 Axes>"
      ]
     },
     "metadata": {},
     "output_type": "display_data"
    }
   ],
   "source": [
    "fraud.groupby('country')['country'].count().sort_values(ascending=False).head(10)\n",
    "fraud.groupby('country')['country'].count().sort_values(ascending=False).head(10).plot(kind='bar')\n",
    "plt.ylabel('Number of users')\n",
    "plt.title('Users in top 10 countries')\n",
    "#plt.show()"
   ]
  },
  {
   "cell_type": "code",
   "execution_count": 43,
   "id": "680a2167",
   "metadata": {},
   "outputs": [
    {
     "name": "stderr",
     "output_type": "stream",
     "text": [
      "C:\\ProgramData\\Anaconda3\\lib\\site-packages\\seaborn\\_decorators.py:36: FutureWarning: Pass the following variables as keyword args: x, y. From version 0.12, the only valid positional argument will be `data`, and passing other arguments without an explicit keyword will result in an error or misinterpretation.\n",
      "  warnings.warn(\n"
     ]
    },
    {
     "data": {
      "image/png": "[encoded data removed]",
      "text/plain": [
       "<Figure size 1224x360 with 1 Axes>"
      ]
     },
     "metadata": {},
     "output_type": "display_data"
    }
   ],
   "source": [
    "plt.figure(figsize=(17,5))\n",
    "ax = sns.barplot(rate_df3['country'].head(15),rate_df3['ratio'].head(15))\n",
    "ax.set_title(\"Countries with highest Fraud:Total Transaction Ratio\",fontsize=18);"
   ]
  },
  {
   "cell_type": "code",
   "execution_count": 44,
   "id": "c7d101a2",
   "metadata": {},
   "outputs": [
    {
     "data": {
      "text/html": [
       "<div>\n",
       "<style scoped>\n",
       "    .dataframe tbody tr th:only-of-type {\n",
       "        vertical-align: middle;\n",
       "    }\n",
       "\n",
       "    .dataframe tbody tr th {\n",
       "        vertical-align: top;\n",
       "    }\n",
       "\n",
       "    .dataframe thead th {\n",
       "        text-align: right;\n",
       "    }\n",
       "</style>\n",
       "<table border=\"1\" class=\"dataframe\">\n",
       "  <thead>\n",
       "    <tr style=\"text-align: right;\">\n",
       "      <th></th>\n",
       "      <th>country</th>\n",
       "      <th>total_transactions</th>\n",
       "      <th>total_fraudulent</th>\n",
       "      <th>ratio</th>\n",
       "    </tr>\n",
       "  </thead>\n",
       "  <tbody>\n",
       "    <tr>\n",
       "      <th>0</th>\n",
       "      <td>United States</td>\n",
       "      <td>53023</td>\n",
       "      <td>525</td>\n",
       "      <td>0.009901</td>\n",
       "    </tr>\n",
       "    <tr>\n",
       "      <th>1</th>\n",
       "      <td>China</td>\n",
       "      <td>11110</td>\n",
       "      <td>115</td>\n",
       "      <td>0.010351</td>\n",
       "    </tr>\n",
       "    <tr>\n",
       "      <th>2</th>\n",
       "      <td>Japan</td>\n",
       "      <td>6664</td>\n",
       "      <td>73</td>\n",
       "      <td>0.010954</td>\n",
       "    </tr>\n",
       "    <tr>\n",
       "      <th>3</th>\n",
       "      <td>United Kingdom</td>\n",
       "      <td>4054</td>\n",
       "      <td>41</td>\n",
       "      <td>0.010113</td>\n",
       "    </tr>\n",
       "    <tr>\n",
       "      <th>6</th>\n",
       "      <td>France</td>\n",
       "      <td>2900</td>\n",
       "      <td>39</td>\n",
       "      <td>0.013448</td>\n",
       "    </tr>\n",
       "    <tr>\n",
       "      <th>4</th>\n",
       "      <td>Korea Republic of</td>\n",
       "      <td>3817</td>\n",
       "      <td>35</td>\n",
       "      <td>0.009170</td>\n",
       "    </tr>\n",
       "    <tr>\n",
       "      <th>8</th>\n",
       "      <td>Canada</td>\n",
       "      <td>2661</td>\n",
       "      <td>34</td>\n",
       "      <td>0.012777</td>\n",
       "    </tr>\n",
       "    <tr>\n",
       "      <th>5</th>\n",
       "      <td>Germany</td>\n",
       "      <td>3412</td>\n",
       "      <td>28</td>\n",
       "      <td>0.008206</td>\n",
       "    </tr>\n",
       "    <tr>\n",
       "      <th>7</th>\n",
       "      <td>Brazil</td>\n",
       "      <td>2716</td>\n",
       "      <td>25</td>\n",
       "      <td>0.009205</td>\n",
       "    </tr>\n",
       "    <tr>\n",
       "      <th>13</th>\n",
       "      <td>India</td>\n",
       "      <td>1179</td>\n",
       "      <td>20</td>\n",
       "      <td>0.016964</td>\n",
       "    </tr>\n",
       "    <tr>\n",
       "      <th>15</th>\n",
       "      <td>Mexico</td>\n",
       "      <td>996</td>\n",
       "      <td>19</td>\n",
       "      <td>0.019076</td>\n",
       "    </tr>\n",
       "    <tr>\n",
       "      <th>9</th>\n",
       "      <td>Italy</td>\n",
       "      <td>1795</td>\n",
       "      <td>17</td>\n",
       "      <td>0.009471</td>\n",
       "    </tr>\n",
       "    <tr>\n",
       "      <th>10</th>\n",
       "      <td>Australia</td>\n",
       "      <td>1695</td>\n",
       "      <td>16</td>\n",
       "      <td>0.009440</td>\n",
       "    </tr>\n",
       "    <tr>\n",
       "      <th>16</th>\n",
       "      <td>Sweden</td>\n",
       "      <td>974</td>\n",
       "      <td>15</td>\n",
       "      <td>0.015400</td>\n",
       "    </tr>\n",
       "    <tr>\n",
       "      <th>21</th>\n",
       "      <td>Argentina</td>\n",
       "      <td>606</td>\n",
       "      <td>11</td>\n",
       "      <td>0.018152</td>\n",
       "    </tr>\n",
       "    <tr>\n",
       "      <th>24</th>\n",
       "      <td>Norway</td>\n",
       "      <td>540</td>\n",
       "      <td>10</td>\n",
       "      <td>0.018519</td>\n",
       "    </tr>\n",
       "    <tr>\n",
       "      <th>40</th>\n",
       "      <td>New Zealand</td>\n",
       "      <td>225</td>\n",
       "      <td>9</td>\n",
       "      <td>0.040000</td>\n",
       "    </tr>\n",
       "    <tr>\n",
       "      <th>11</th>\n",
       "      <td>Netherlands</td>\n",
       "      <td>1566</td>\n",
       "      <td>9</td>\n",
       "      <td>0.005747</td>\n",
       "    </tr>\n",
       "    <tr>\n",
       "      <th>12</th>\n",
       "      <td>Russian Federation</td>\n",
       "      <td>1490</td>\n",
       "      <td>8</td>\n",
       "      <td>0.005369</td>\n",
       "    </tr>\n",
       "    <tr>\n",
       "      <th>29</th>\n",
       "      <td>Hong Kong</td>\n",
       "      <td>418</td>\n",
       "      <td>8</td>\n",
       "      <td>0.019139</td>\n",
       "    </tr>\n",
       "  </tbody>\n",
       "</table>\n",
       "</div>"
      ],
      "text/plain": [
       "               country  total_transactions  total_fraudulent     ratio\n",
       "0        United States               53023               525  0.009901\n",
       "1                China               11110               115  0.010351\n",
       "2                Japan                6664                73  0.010954\n",
       "3       United Kingdom                4054                41  0.010113\n",
       "6               France                2900                39  0.013448\n",
       "4    Korea Republic of                3817                35  0.009170\n",
       "8               Canada                2661                34  0.012777\n",
       "5              Germany                3412                28  0.008206\n",
       "7               Brazil                2716                25  0.009205\n",
       "13               India                1179                20  0.016964\n",
       "15              Mexico                 996                19  0.019076\n",
       "9                Italy                1795                17  0.009471\n",
       "10           Australia                1695                16  0.009440\n",
       "16              Sweden                 974                15  0.015400\n",
       "21           Argentina                 606                11  0.018152\n",
       "24              Norway                 540                10  0.018519\n",
       "40         New Zealand                 225                 9  0.040000\n",
       "11         Netherlands                1566                 9  0.005747\n",
       "12  Russian Federation                1490                 8  0.005369\n",
       "29           Hong Kong                 418                 8  0.019139"
      ]
     },
     "execution_count": 44,
     "metadata": {},
     "output_type": "execute_result"
    }
   ],
   "source": [
    "#Countries sorted by count of fraudulent transactions\n",
    "rate_df4 = rate_df2.sort_values('total_fraudulent',ascending=False).head(20)\n",
    "rate_df4"
   ]
  },
  {
   "cell_type": "code",
   "execution_count": 45,
   "id": "fc4f4d33",
   "metadata": {},
   "outputs": [
    {
     "name": "stderr",
     "output_type": "stream",
     "text": [
      "C:\\ProgramData\\Anaconda3\\lib\\site-packages\\seaborn\\_decorators.py:36: FutureWarning: Pass the following variables as keyword args: x, y. From version 0.12, the only valid positional argument will be `data`, and passing other arguments without an explicit keyword will result in an error or misinterpretation.\n",
      "  warnings.warn(\n"
     ]
    },
    {
     "data": {
      "text/plain": [
       "Text(0.5, 1.0, 'Countries with highest Fraud:Total Transaction Count')"
      ]
     },
     "execution_count": 45,
     "metadata": {},
     "output_type": "execute_result"
    },
    {
     "data": {
      "image/png": "[encoded data removed]",
      "text/plain": [
       "<Figure size 1296x360 with 1 Axes>"
      ]
     },
     "metadata": {},
     "output_type": "display_data"
    }
   ],
   "source": [
    "plt.figure(figsize=(18,5))\n",
    "ax = sns.barplot(rate_df4['country'].head(15),rate_df4['total_fraudulent'].head(15))\n",
    "ax.set_title(\"Countries with highest Fraud:Total Transaction Count\",fontsize=18)"
   ]
  },
  {
   "cell_type": "markdown",
   "id": "65c596b2",
   "metadata": {},
   "source": [
    "## Data Split"
   ]
  },
  {
   "cell_type": "code",
   "execution_count": 46,
   "id": "229f09e6",
   "metadata": {},
   "outputs": [
    {
     "name": "stdout",
     "output_type": "stream",
     "text": [
      "X_train.shape: (94468, 13)\n",
      "y_train.shape: (94468,)\n"
     ]
    }
   ],
   "source": [
    "y = fraud['class']\n",
    "X = fraud.drop(['class', 'user_id','signup_time', 'purchase_time'], axis=1)\n",
    "\n",
    "#split into train/test\n",
    "X_train, X_test, y_train, y_test = train_test_split(X, y, test_size=0.2, random_state=0)\n",
    "print(\"X_train.shape:\", X_train.shape)\n",
    "print(\"y_train.shape:\", y_train.shape)"
   ]
  },
  {
   "cell_type": "code",
   "execution_count": 47,
   "id": "6e0371c5",
   "metadata": {},
   "outputs": [
    {
     "data": {
      "text/html": [
       "<div>\n",
       "<style scoped>\n",
       "    .dataframe tbody tr th:only-of-type {\n",
       "        vertical-align: middle;\n",
       "    }\n",
       "\n",
       "    .dataframe tbody tr th {\n",
       "        vertical-align: top;\n",
       "    }\n",
       "\n",
       "    .dataframe thead th {\n",
       "        text-align: right;\n",
       "    }\n",
       "</style>\n",
       "<table border=\"1\" class=\"dataframe\">\n",
       "  <thead>\n",
       "    <tr style=\"text-align: right;\">\n",
       "      <th></th>\n",
       "      <th>purchase_value</th>\n",
       "      <th>device_id</th>\n",
       "      <th>source</th>\n",
       "      <th>browser</th>\n",
       "      <th>sex</th>\n",
       "      <th>age</th>\n",
       "      <th>ip_address</th>\n",
       "      <th>country</th>\n",
       "      <th>interval_after_signup</th>\n",
       "      <th>signup_days_of_year</th>\n",
       "      <th>signup_seconds_of_day</th>\n",
       "      <th>purchase_days_of_year</th>\n",
       "      <th>purchase_seconds_of_day</th>\n",
       "    </tr>\n",
       "  </thead>\n",
       "  <tbody>\n",
       "    <tr>\n",
       "      <th>82702</th>\n",
       "      <td>33</td>\n",
       "      <td>FAMLWMDKRLLVZ</td>\n",
       "      <td>SEO</td>\n",
       "      <td>Opera</td>\n",
       "      <td>M</td>\n",
       "      <td>29</td>\n",
       "      <td>2.779394e+09</td>\n",
       "      <td>United States</td>\n",
       "      <td>5805523.0</td>\n",
       "      <td>41</td>\n",
       "      <td>8833</td>\n",
       "      <td>108</td>\n",
       "      <td>25556</td>\n",
       "    </tr>\n",
       "    <tr>\n",
       "      <th>501</th>\n",
       "      <td>65</td>\n",
       "      <td>LFIVWATZLPNTJ</td>\n",
       "      <td>Ads</td>\n",
       "      <td>IE</td>\n",
       "      <td>M</td>\n",
       "      <td>30</td>\n",
       "      <td>2.995965e+09</td>\n",
       "      <td>Greece</td>\n",
       "      <td>4074151.0</td>\n",
       "      <td>49</td>\n",
       "      <td>79012</td>\n",
       "      <td>97</td>\n",
       "      <td>5963</td>\n",
       "    </tr>\n",
       "    <tr>\n",
       "      <th>49713</th>\n",
       "      <td>34</td>\n",
       "      <td>SIDNYIBACCXQI</td>\n",
       "      <td>SEO</td>\n",
       "      <td>Safari</td>\n",
       "      <td>M</td>\n",
       "      <td>22</td>\n",
       "      <td>1.228096e+09</td>\n",
       "      <td>United States</td>\n",
       "      <td>6102291.0</td>\n",
       "      <td>220</td>\n",
       "      <td>50933</td>\n",
       "      <td>291</td>\n",
       "      <td>18824</td>\n",
       "    </tr>\n",
       "    <tr>\n",
       "      <th>99926</th>\n",
       "      <td>13</td>\n",
       "      <td>DRMANJFALMHRO</td>\n",
       "      <td>Ads</td>\n",
       "      <td>IE</td>\n",
       "      <td>F</td>\n",
       "      <td>31</td>\n",
       "      <td>8.872392e+08</td>\n",
       "      <td>United States</td>\n",
       "      <td>8504465.0</td>\n",
       "      <td>148</td>\n",
       "      <td>58341</td>\n",
       "      <td>247</td>\n",
       "      <td>9206</td>\n",
       "    </tr>\n",
       "    <tr>\n",
       "      <th>103723</th>\n",
       "      <td>60</td>\n",
       "      <td>OVMZIIKWVVGHU</td>\n",
       "      <td>Direct</td>\n",
       "      <td>Chrome</td>\n",
       "      <td>M</td>\n",
       "      <td>35</td>\n",
       "      <td>1.537084e+09</td>\n",
       "      <td>Finland</td>\n",
       "      <td>8954046.0</td>\n",
       "      <td>118</td>\n",
       "      <td>7127</td>\n",
       "      <td>221</td>\n",
       "      <td>61973</td>\n",
       "    </tr>\n",
       "  </tbody>\n",
       "</table>\n",
       "</div>"
      ],
      "text/plain": [
       "        purchase_value      device_id  source browser sex  age    ip_address  \\\n",
       "82702               33  FAMLWMDKRLLVZ     SEO   Opera   M   29  2.779394e+09   \n",
       "501                 65  LFIVWATZLPNTJ     Ads      IE   M   30  2.995965e+09   \n",
       "49713               34  SIDNYIBACCXQI     SEO  Safari   M   22  1.228096e+09   \n",
       "99926               13  DRMANJFALMHRO     Ads      IE   F   31  8.872392e+08   \n",
       "103723              60  OVMZIIKWVVGHU  Direct  Chrome   M   35  1.537084e+09   \n",
       "\n",
       "              country  interval_after_signup  signup_days_of_year  \\\n",
       "82702   United States              5805523.0                   41   \n",
       "501            Greece              4074151.0                   49   \n",
       "49713   United States              6102291.0                  220   \n",
       "99926   United States              8504465.0                  148   \n",
       "103723        Finland              8954046.0                  118   \n",
       "\n",
       "        signup_seconds_of_day  purchase_days_of_year  purchase_seconds_of_day  \n",
       "82702                    8833                    108                    25556  \n",
       "501                     79012                     97                     5963  \n",
       "49713                   50933                    291                    18824  \n",
       "99926                   58341                    247                     9206  \n",
       "103723                   7127                    221                    61973  "
      ]
     },
     "execution_count": 47,
     "metadata": {},
     "output_type": "execute_result"
    }
   ],
   "source": [
    "X_train.head()"
   ]
  },
  {
   "cell_type": "markdown",
   "id": "9e6b9a5a",
   "metadata": {},
   "source": [
    "Convert categorical features with numericals"
   ]
  },
  {
   "cell_type": "code",
   "execution_count": 48,
   "id": "51b8f123",
   "metadata": {},
   "outputs": [],
   "source": [
    "#converting needs to be done after split\n",
    "X_train = pd.get_dummies(X_train, columns=['source', 'browser'])#need to drop ['source', 'browser']? no, auto dropped by get_dummies \n",
    "X_train['sex'] = (X_train.sex == 'M').astype(int)\n",
    "\n",
    "# the more a device is shared, the more suspicious\n",
    "# if device_id abc occurred 100 times in X_train, then replace all abc in device_id col in X_train by 100\n",
    "X_train_device_id_mapping = X_train.device_id.value_counts(dropna=False)\n",
    "X_train['n_dev_shared'] = X_train.device_id.map(X_train_device_id_mapping)# number of times device_id occurred in train data\n",
    "\n",
    "# the more a ip is shared, the more suspicious\n",
    "X_train_ip_address_mapping = X_train.ip_address.value_counts(dropna=False)\n",
    "X_train['n_ip_shared'] = X_train.ip_address.map(X_train_ip_address_mapping)\n",
    "\n",
    "# the less visit from a country, the more suspicious\n",
    "X_train_country_mapping = X_train.country.value_counts(dropna=False)\n",
    "X_train['n_country_shared'] = X_train.country.map(X_train_country_mapping)#lots of NAs in country column, #without dropna=False will produce nan in this col\n",
    "\n",
    "\n",
    "X_train = X_train.drop(['device_id','ip_address','country'], axis=1)\n"
   ]
  },
  {
   "cell_type": "code",
   "execution_count": 49,
   "id": "dfda1cc3",
   "metadata": {},
   "outputs": [
    {
     "data": {
      "text/html": [
       "<div>\n",
       "<style scoped>\n",
       "    .dataframe tbody tr th:only-of-type {\n",
       "        vertical-align: middle;\n",
       "    }\n",
       "\n",
       "    .dataframe tbody tr th {\n",
       "        vertical-align: top;\n",
       "    }\n",
       "\n",
       "    .dataframe thead th {\n",
       "        text-align: right;\n",
       "    }\n",
       "</style>\n",
       "<table border=\"1\" class=\"dataframe\">\n",
       "  <thead>\n",
       "    <tr style=\"text-align: right;\">\n",
       "      <th></th>\n",
       "      <th>purchase_value</th>\n",
       "      <th>sex</th>\n",
       "      <th>age</th>\n",
       "      <th>interval_after_signup</th>\n",
       "      <th>signup_days_of_year</th>\n",
       "      <th>signup_seconds_of_day</th>\n",
       "      <th>purchase_days_of_year</th>\n",
       "      <th>purchase_seconds_of_day</th>\n",
       "      <th>source_Ads</th>\n",
       "      <th>source_Direct</th>\n",
       "      <th>source_SEO</th>\n",
       "      <th>browser_Chrome</th>\n",
       "      <th>browser_FireFox</th>\n",
       "      <th>browser_IE</th>\n",
       "      <th>browser_Opera</th>\n",
       "      <th>browser_Safari</th>\n",
       "      <th>n_dev_shared</th>\n",
       "      <th>n_ip_shared</th>\n",
       "      <th>n_country_shared</th>\n",
       "    </tr>\n",
       "  </thead>\n",
       "  <tbody>\n",
       "    <tr>\n",
       "      <th>82702</th>\n",
       "      <td>33</td>\n",
       "      <td>1</td>\n",
       "      <td>29</td>\n",
       "      <td>5805523.0</td>\n",
       "      <td>41</td>\n",
       "      <td>8833</td>\n",
       "      <td>108</td>\n",
       "      <td>25556</td>\n",
       "      <td>0</td>\n",
       "      <td>0</td>\n",
       "      <td>1</td>\n",
       "      <td>0</td>\n",
       "      <td>0</td>\n",
       "      <td>0</td>\n",
       "      <td>1</td>\n",
       "      <td>0</td>\n",
       "      <td>1</td>\n",
       "      <td>1</td>\n",
       "      <td>42270</td>\n",
       "    </tr>\n",
       "    <tr>\n",
       "      <th>501</th>\n",
       "      <td>65</td>\n",
       "      <td>1</td>\n",
       "      <td>30</td>\n",
       "      <td>4074151.0</td>\n",
       "      <td>49</td>\n",
       "      <td>79012</td>\n",
       "      <td>97</td>\n",
       "      <td>5963</td>\n",
       "      <td>1</td>\n",
       "      <td>0</td>\n",
       "      <td>0</td>\n",
       "      <td>0</td>\n",
       "      <td>0</td>\n",
       "      <td>1</td>\n",
       "      <td>0</td>\n",
       "      <td>0</td>\n",
       "      <td>1</td>\n",
       "      <td>1</td>\n",
       "      <td>169</td>\n",
       "    </tr>\n",
       "    <tr>\n",
       "      <th>49713</th>\n",
       "      <td>34</td>\n",
       "      <td>1</td>\n",
       "      <td>22</td>\n",
       "      <td>6102291.0</td>\n",
       "      <td>220</td>\n",
       "      <td>50933</td>\n",
       "      <td>291</td>\n",
       "      <td>18824</td>\n",
       "      <td>0</td>\n",
       "      <td>0</td>\n",
       "      <td>1</td>\n",
       "      <td>0</td>\n",
       "      <td>0</td>\n",
       "      <td>0</td>\n",
       "      <td>0</td>\n",
       "      <td>1</td>\n",
       "      <td>1</td>\n",
       "      <td>1</td>\n",
       "      <td>42270</td>\n",
       "    </tr>\n",
       "    <tr>\n",
       "      <th>99926</th>\n",
       "      <td>13</td>\n",
       "      <td>0</td>\n",
       "      <td>31</td>\n",
       "      <td>8504465.0</td>\n",
       "      <td>148</td>\n",
       "      <td>58341</td>\n",
       "      <td>247</td>\n",
       "      <td>9206</td>\n",
       "      <td>1</td>\n",
       "      <td>0</td>\n",
       "      <td>0</td>\n",
       "      <td>0</td>\n",
       "      <td>0</td>\n",
       "      <td>1</td>\n",
       "      <td>0</td>\n",
       "      <td>0</td>\n",
       "      <td>1</td>\n",
       "      <td>1</td>\n",
       "      <td>42270</td>\n",
       "    </tr>\n",
       "    <tr>\n",
       "      <th>103723</th>\n",
       "      <td>60</td>\n",
       "      <td>1</td>\n",
       "      <td>35</td>\n",
       "      <td>8954046.0</td>\n",
       "      <td>118</td>\n",
       "      <td>7127</td>\n",
       "      <td>221</td>\n",
       "      <td>61973</td>\n",
       "      <td>0</td>\n",
       "      <td>1</td>\n",
       "      <td>0</td>\n",
       "      <td>1</td>\n",
       "      <td>0</td>\n",
       "      <td>0</td>\n",
       "      <td>0</td>\n",
       "      <td>0</td>\n",
       "      <td>1</td>\n",
       "      <td>1</td>\n",
       "      <td>337</td>\n",
       "    </tr>\n",
       "  </tbody>\n",
       "</table>\n",
       "</div>"
      ],
      "text/plain": [
       "        purchase_value  sex  age  interval_after_signup  signup_days_of_year  \\\n",
       "82702               33    1   29              5805523.0                   41   \n",
       "501                 65    1   30              4074151.0                   49   \n",
       "49713               34    1   22              6102291.0                  220   \n",
       "99926               13    0   31              8504465.0                  148   \n",
       "103723              60    1   35              8954046.0                  118   \n",
       "\n",
       "        signup_seconds_of_day  purchase_days_of_year  purchase_seconds_of_day  \\\n",
       "82702                    8833                    108                    25556   \n",
       "501                     79012                     97                     5963   \n",
       "49713                   50933                    291                    18824   \n",
       "99926                   58341                    247                     9206   \n",
       "103723                   7127                    221                    61973   \n",
       "\n",
       "        source_Ads  source_Direct  source_SEO  browser_Chrome  \\\n",
       "82702            0              0           1               0   \n",
       "501              1              0           0               0   \n",
       "49713            0              0           1               0   \n",
       "99926            1              0           0               0   \n",
       "103723           0              1           0               1   \n",
       "\n",
       "        browser_FireFox  browser_IE  browser_Opera  browser_Safari  \\\n",
       "82702                 0           0              1               0   \n",
       "501                   0           1              0               0   \n",
       "49713                 0           0              0               1   \n",
       "99926                 0           1              0               0   \n",
       "103723                0           0              0               0   \n",
       "\n",
       "        n_dev_shared  n_ip_shared  n_country_shared  \n",
       "82702              1            1             42270  \n",
       "501                1            1               169  \n",
       "49713              1            1             42270  \n",
       "99926              1            1             42270  \n",
       "103723             1            1               337  "
      ]
     },
     "execution_count": 49,
     "metadata": {},
     "output_type": "execute_result"
    }
   ],
   "source": [
    "X_train.head()"
   ]
  },
  {
   "cell_type": "code",
   "execution_count": 50,
   "id": "02b78f67",
   "metadata": {},
   "outputs": [
    {
     "data": {
      "text/plain": [
       "(94468, 19)"
      ]
     },
     "execution_count": 50,
     "metadata": {},
     "output_type": "execute_result"
    }
   ],
   "source": [
    "X_train.shape"
   ]
  },
  {
   "cell_type": "code",
   "execution_count": 51,
   "id": "c718ff0d",
   "metadata": {},
   "outputs": [],
   "source": [
    "##########################\n",
    "X_test = pd.get_dummies(X_test, columns=['source', 'browser'])\n",
    "X_test['sex'] = (X_test.sex == 'M').astype(int)\n",
    "\n",
    "\n",
    "# http://docs.h2o.ai/h2o/latest-stable/h2o-docs/data-science/target-encoding.html\n",
    "# the more a device is shared, the more suspicious\n",
    "# X_test['n_dev_shared'] = X_test.device_id.map(X_train_device_id_mapping) \n",
    "\n",
    "# the more a ip is shared, the more suspicious\n",
    "# X_test['n_ip_shared'] = X_test.ip_address.map(X_train_ip_address_mapping)\n",
    "\n",
    "# the less visit from a country, the more suspicious\n",
    "# X_test['n_country_shared'] = X_test.country.map(X_train_country_mapping)\n",
    "\n",
    "#but here device_id, ip_address has few overlap between train and test, if we apply the above \n",
    "# 3 X_train_mappings (generated from X_train) on X_test, then most of the X_test will be NaN, as we can not find the keys in the train mapping\n",
    "\n",
    "\n",
    "\n",
    "\n",
    "# if apply train mapping, most of the levels in test does not occur in train, so most are null after converting, so redo mapping on test data, which we should not\n",
    "\n",
    "# the more a device is shared, the more suspicious\n",
    "X_test['n_dev_shared'] = X_test.device_id.map(X_test.device_id.value_counts(dropna=False))\n",
    "\n",
    "# the more a ip is shared, the more suspicious\n",
    "X_test['n_ip_shared'] = X_test.ip_address.map(X_test.ip_address.value_counts(dropna=False))\n",
    "\n",
    "# the less visit from a country, the more suspicious\n",
    "X_test['n_country_shared'] = X_test.country.map(X_test.country.value_counts(dropna=False))\n",
    "\n",
    "X_test = X_test.drop(['device_id','ip_address','country'], axis=1)\n",
    "\n",
    "# if the levels/values/mapping keys of the column in train and test data are pretty much the same(lots of overlap), e.g. country, \n",
    "# then we should apply the above 3 X_train_mappings (generated from X_train) on X_test(like below), \n",
    "# rather than using the new mapping generated from X_test"
   ]
  },
  {
   "cell_type": "code",
   "execution_count": 52,
   "id": "cc599aec",
   "metadata": {},
   "outputs": [
    {
     "data": {
      "text/html": [
       "<div>\n",
       "<style scoped>\n",
       "    .dataframe tbody tr th:only-of-type {\n",
       "        vertical-align: middle;\n",
       "    }\n",
       "\n",
       "    .dataframe tbody tr th {\n",
       "        vertical-align: top;\n",
       "    }\n",
       "\n",
       "    .dataframe thead th {\n",
       "        text-align: right;\n",
       "    }\n",
       "</style>\n",
       "<table border=\"1\" class=\"dataframe\">\n",
       "  <thead>\n",
       "    <tr style=\"text-align: right;\">\n",
       "      <th></th>\n",
       "      <th>purchase_value</th>\n",
       "      <th>sex</th>\n",
       "      <th>age</th>\n",
       "      <th>interval_after_signup</th>\n",
       "      <th>signup_days_of_year</th>\n",
       "      <th>signup_seconds_of_day</th>\n",
       "      <th>purchase_days_of_year</th>\n",
       "      <th>purchase_seconds_of_day</th>\n",
       "      <th>source_Ads</th>\n",
       "      <th>source_Direct</th>\n",
       "      <th>source_SEO</th>\n",
       "      <th>browser_Chrome</th>\n",
       "      <th>browser_FireFox</th>\n",
       "      <th>browser_IE</th>\n",
       "      <th>browser_Opera</th>\n",
       "      <th>browser_Safari</th>\n",
       "      <th>n_dev_shared</th>\n",
       "      <th>n_ip_shared</th>\n",
       "      <th>n_country_shared</th>\n",
       "    </tr>\n",
       "  </thead>\n",
       "  <tbody>\n",
       "    <tr>\n",
       "      <th>132113</th>\n",
       "      <td>35</td>\n",
       "      <td>0</td>\n",
       "      <td>38</td>\n",
       "      <td>6086289.0</td>\n",
       "      <td>158</td>\n",
       "      <td>59202</td>\n",
       "      <td>229</td>\n",
       "      <td>11091</td>\n",
       "      <td>1</td>\n",
       "      <td>0</td>\n",
       "      <td>0</td>\n",
       "      <td>1</td>\n",
       "      <td>0</td>\n",
       "      <td>0</td>\n",
       "      <td>0</td>\n",
       "      <td>0</td>\n",
       "      <td>1</td>\n",
       "      <td>1</td>\n",
       "      <td>10753</td>\n",
       "    </tr>\n",
       "    <tr>\n",
       "      <th>40126</th>\n",
       "      <td>59</td>\n",
       "      <td>1</td>\n",
       "      <td>20</td>\n",
       "      <td>8927189.0</td>\n",
       "      <td>79</td>\n",
       "      <td>67686</td>\n",
       "      <td>183</td>\n",
       "      <td>9275</td>\n",
       "      <td>0</td>\n",
       "      <td>0</td>\n",
       "      <td>1</td>\n",
       "      <td>0</td>\n",
       "      <td>1</td>\n",
       "      <td>0</td>\n",
       "      <td>0</td>\n",
       "      <td>0</td>\n",
       "      <td>1</td>\n",
       "      <td>1</td>\n",
       "      <td>10753</td>\n",
       "    </tr>\n",
       "    <tr>\n",
       "      <th>31641</th>\n",
       "      <td>35</td>\n",
       "      <td>0</td>\n",
       "      <td>52</td>\n",
       "      <td>6036225.0</td>\n",
       "      <td>140</td>\n",
       "      <td>51642</td>\n",
       "      <td>210</td>\n",
       "      <td>39867</td>\n",
       "      <td>0</td>\n",
       "      <td>0</td>\n",
       "      <td>1</td>\n",
       "      <td>0</td>\n",
       "      <td>0</td>\n",
       "      <td>0</td>\n",
       "      <td>0</td>\n",
       "      <td>1</td>\n",
       "      <td>1</td>\n",
       "      <td>1</td>\n",
       "      <td>10753</td>\n",
       "    </tr>\n",
       "    <tr>\n",
       "      <th>108260</th>\n",
       "      <td>55</td>\n",
       "      <td>1</td>\n",
       "      <td>29</td>\n",
       "      <td>8070555.0</td>\n",
       "      <td>185</td>\n",
       "      <td>12919</td>\n",
       "      <td>278</td>\n",
       "      <td>48274</td>\n",
       "      <td>0</td>\n",
       "      <td>0</td>\n",
       "      <td>1</td>\n",
       "      <td>0</td>\n",
       "      <td>1</td>\n",
       "      <td>0</td>\n",
       "      <td>0</td>\n",
       "      <td>0</td>\n",
       "      <td>1</td>\n",
       "      <td>1</td>\n",
       "      <td>1308</td>\n",
       "    </tr>\n",
       "    <tr>\n",
       "      <th>94548</th>\n",
       "      <td>55</td>\n",
       "      <td>1</td>\n",
       "      <td>18</td>\n",
       "      <td>8386089.0</td>\n",
       "      <td>193</td>\n",
       "      <td>42133</td>\n",
       "      <td>290</td>\n",
       "      <td>47422</td>\n",
       "      <td>0</td>\n",
       "      <td>0</td>\n",
       "      <td>1</td>\n",
       "      <td>0</td>\n",
       "      <td>0</td>\n",
       "      <td>1</td>\n",
       "      <td>0</td>\n",
       "      <td>0</td>\n",
       "      <td>1</td>\n",
       "      <td>1</td>\n",
       "      <td>10753</td>\n",
       "    </tr>\n",
       "  </tbody>\n",
       "</table>\n",
       "</div>"
      ],
      "text/plain": [
       "        purchase_value  sex  age  interval_after_signup  signup_days_of_year  \\\n",
       "132113              35    0   38              6086289.0                  158   \n",
       "40126               59    1   20              8927189.0                   79   \n",
       "31641               35    0   52              6036225.0                  140   \n",
       "108260              55    1   29              8070555.0                  185   \n",
       "94548               55    1   18              8386089.0                  193   \n",
       "\n",
       "        signup_seconds_of_day  purchase_days_of_year  purchase_seconds_of_day  \\\n",
       "132113                  59202                    229                    11091   \n",
       "40126                   67686                    183                     9275   \n",
       "31641                   51642                    210                    39867   \n",
       "108260                  12919                    278                    48274   \n",
       "94548                   42133                    290                    47422   \n",
       "\n",
       "        source_Ads  source_Direct  source_SEO  browser_Chrome  \\\n",
       "132113           1              0           0               1   \n",
       "40126            0              0           1               0   \n",
       "31641            0              0           1               0   \n",
       "108260           0              0           1               0   \n",
       "94548            0              0           1               0   \n",
       "\n",
       "        browser_FireFox  browser_IE  browser_Opera  browser_Safari  \\\n",
       "132113                0           0              0               0   \n",
       "40126                 1           0              0               0   \n",
       "31641                 0           0              0               1   \n",
       "108260                1           0              0               0   \n",
       "94548                 0           1              0               0   \n",
       "\n",
       "        n_dev_shared  n_ip_shared  n_country_shared  \n",
       "132113             1            1             10753  \n",
       "40126              1            1             10753  \n",
       "31641              1            1             10753  \n",
       "108260             1            1              1308  \n",
       "94548              1            1             10753  "
      ]
     },
     "execution_count": 52,
     "metadata": {},
     "output_type": "execute_result"
    }
   ],
   "source": [
    "X_test.head()"
   ]
  },
  {
   "cell_type": "code",
   "execution_count": 53,
   "id": "e8532f2b",
   "metadata": {},
   "outputs": [
    {
     "data": {
      "text/plain": [
       "(23617, 19)"
      ]
     },
     "execution_count": 53,
     "metadata": {},
     "output_type": "execute_result"
    }
   ],
   "source": [
    "X_test.shape"
   ]
  },
  {
   "cell_type": "code",
   "execution_count": 54,
   "id": "7d46c48d",
   "metadata": {},
   "outputs": [],
   "source": [
    "# # normalize (min-max) to [0,1], standardize(StandardScaler) to normal, mu=0,var = 1 can < 0, so we do normalize here\n",
    "\n",
    "# needs to be brought to the same scale for models like LR with regularization(that are not tree based)\n",
    "\n",
    "#Compute the train minimum and maximum to be used for later scaling:\n",
    "scaler = preprocessing.MinMaxScaler().fit(X_train[['n_dev_shared', 'n_ip_shared', 'n_country_shared']]) \n",
    "#print(scaler.data_max_)\n",
    "\n",
    "#transform the training data and use them for the model training\n",
    "X_train[['n_dev_shared', 'n_ip_shared', 'n_country_shared']] = scaler.transform(X_train[['n_dev_shared', 'n_ip_shared', 'n_country_shared']])\n",
    "\n",
    "#before the prediction of the test data, apply the same scaler obtained from above, on X_test, not fitting a brandnew scaler on test\n",
    "X_test[['n_dev_shared', 'n_ip_shared', 'n_country_shared']] = scaler.transform(X_test[['n_dev_shared', 'n_ip_shared', 'n_country_shared']])\n"
   ]
  },
  {
   "cell_type": "code",
   "execution_count": 55,
   "id": "162f320b",
   "metadata": {},
   "outputs": [
    {
     "data": {
      "text/plain": [
       "0.00    90388\n",
       "0.25     3642\n",
       "0.50      297\n",
       "0.75      116\n",
       "1.00       25\n",
       "Name: n_dev_shared, dtype: int64"
      ]
     },
     "execution_count": 55,
     "metadata": {},
     "output_type": "execute_result"
    }
   ],
   "source": [
    "X_train.n_dev_shared.value_counts(dropna=False)"
   ]
  },
  {
   "cell_type": "code",
   "execution_count": 56,
   "id": "b909fc0d",
   "metadata": {},
   "outputs": [
    {
     "data": {
      "text/plain": [
       "0.00    23355\n",
       "0.25      256\n",
       "0.50        6\n",
       "Name: n_dev_shared, dtype: int64"
      ]
     },
     "execution_count": 56,
     "metadata": {},
     "output_type": "execute_result"
    }
   ],
   "source": [
    "X_test.n_dev_shared.value_counts(dropna=False)"
   ]
  },
  {
   "cell_type": "markdown",
   "id": "e55af19c",
   "metadata": {},
   "source": [
    "### Model training"
   ]
  },
  {
   "cell_type": "code",
   "execution_count": 57,
   "id": "bd7d2796",
   "metadata": {},
   "outputs": [],
   "source": [
    "# instantiate the model (using the default parameters)\n",
    "logreg = LogisticRegression()\n",
    "\n",
    "# fit the model with data\n",
    "logreg.fit(X_train,y_train)\n",
    "\n",
    "# predict on test\n",
    "y_pred=logreg.predict(X_test)"
   ]
  },
  {
   "cell_type": "code",
   "execution_count": 58,
   "id": "f06c2e2c",
   "metadata": {},
   "outputs": [
    {
     "name": "stdout",
     "output_type": "stream",
     "text": [
      "        pred_0  pred_1\n",
      "true_0   23390       0\n",
      "true_1     227       0\n"
     ]
    }
   ],
   "source": [
    "cm = metrics.confusion_matrix(y_test, y_pred)\n",
    "cmDF = pd.DataFrame(cm, columns=['pred_0', 'pred_1'], index=['true_0', 'true_1'])\n",
    "print(cmDF)"
   ]
  },
  {
   "cell_type": "markdown",
   "id": "ab6a5d81",
   "metadata": {},
   "source": [
    "Simple RF Model"
   ]
  },
  {
   "cell_type": "code",
   "execution_count": 59,
   "id": "beecda4c",
   "metadata": {},
   "outputs": [
    {
     "name": "stdout",
     "output_type": "stream",
     "text": [
      "confusion_matrix is: \n",
      "        pred_0  pred_1\n",
      "true_0   23390       0\n",
      "true_1     112     115\n",
      "recall = 0.5066079295154186\n",
      "precision = 1.0\n",
      "roc_auc_score is: : 0.766194559593787\n",
      "f1_score is: : 0.672514619883041\n",
      "accuracy_score is: : 0.9952576533852733\n"
     ]
    }
   ],
   "source": [
    "classifier_RF = RandomForestClassifier(random_state=0)\n",
    "\n",
    "classifier_RF.fit(X_train, y_train)\n",
    "predicted = classifier_RF.predict(X_test)\n",
    "\n",
    "print (\"confusion_matrix is: \")\n",
    "cm = confusion_matrix(y_test, predicted)\n",
    "cmDF = pd.DataFrame(cm, columns=['pred_0', 'pred_1'], index=['true_0', 'true_1'])\n",
    "print(cmDF)\n",
    "print('recall =',float(cm[1,1])/(cm[1,0]+cm[1,1]))\n",
    "print('precision =', float(cm[1,1])/(cm[1,1] + cm[0,1]))#1.0predicted = classifier_RF.predict(X_test)\n",
    "\n",
    "# generate class probabilities\n",
    "probs = classifier_RF.predict_proba(X_test)\n",
    "\n",
    "# predict class labels 0/1 for the test set\n",
    "print(\"%s: %r\" % (\"roc_auc_score is: \", roc_auc_score(y_test, probs[:, 1])))\n",
    "print(\"%s: %r\" % (\"f1_score is: \", f1_score(y_test, predicted )))#string to int\n",
    "\n",
    "# generate evaluation metrics\n",
    "print(\"%s: %r\" % (\"accuracy_score is: \", accuracy_score(y_test, predicted)))"
   ]
  },
  {
   "cell_type": "markdown",
   "id": "c0d9cbe8",
   "metadata": {},
   "source": [
    "SMOTE Sampling"
   ]
  },
  {
   "cell_type": "code",
   "execution_count": 60,
   "id": "1fe4c5c2",
   "metadata": {},
   "outputs": [
    {
     "name": "stdout",
     "output_type": "stream",
     "text": [
      "[[    0 93488]\n",
      " [    1 93488]]\n"
     ]
    }
   ],
   "source": [
    "#Wrong way to sampling: smote before split train/test, then test data does not reflect true distribution in reality, \n",
    "#and “blend” information from the test set into the training of the model. overfit! think about the case of simple \n",
    "#oversampling (where I just duplicate observations). If I upsample a dataset before splitting it into a train and \n",
    "#validation set, I could end up with the same observation in both datasets\n",
    "\n",
    "#https://imbalanced-learn.org/en/stable/install.html\n",
    "\n",
    "# Install\n",
    "# imbalanced-learn is currently available on the PyPi’s reporitories and you can install it via pip:\n",
    "\n",
    "# pip install -U imbalanced-learn\n",
    "\n",
    "#oversampling on only the training data, the right way! \n",
    "#sampling_strategy = number of samples in the majority class over the number of samples in the minority class after resampling\n",
    "\n",
    "smote = SMOTE(random_state=12)\n",
    "x_train_sm, y_train_sm = smote.fit_resample(X_train, y_train)\n",
    "\n",
    "unique, counts = np.unique(y_train_sm, return_counts=True)\n",
    "\n",
    "print(np.asarray((unique, counts)).T)"
   ]
  },
  {
   "cell_type": "code",
   "execution_count": 61,
   "id": "2310e303",
   "metadata": {},
   "outputs": [
    {
     "name": "stdout",
     "output_type": "stream",
     "text": [
      "accuracy_score_sm is: : 0.9579540161747894\n",
      "roc_auc_score_sm is: : 0.7281866756567907\n",
      "f1_score_sm is: : 0.19202603742880392\n",
      "confusion_matrix_sm is: \n",
      "        pred_0  pred_1\n",
      "true_0   22506     884\n",
      "true_1     109     118\n",
      "recall or sens_sm = 0.5198237885462555\n",
      "precision_sm = 0.11776447105788423\n"
     ]
    }
   ],
   "source": [
    "#RF on smoted training data\n",
    "classifier_RF_sm = RandomForestClassifier(random_state=0)\n",
    "\n",
    "classifier_RF_sm.fit(x_train_sm, y_train_sm)\n",
    "\n",
    "# predict class labels for the test set\n",
    "predicted_sm = classifier_RF_sm.predict(X_test)\n",
    "\n",
    "# generate class probabilities\n",
    "probs_sm = classifier_RF_sm.predict_proba(X_test)\n",
    "\n",
    "\n",
    "# generate evaluation metrics\n",
    "print(\"%s: %r\" % (\"accuracy_score_sm is: \", accuracy_score(y_test, predicted_sm)))\n",
    "print(\"%s: %r\" % (\"roc_auc_score_sm is: \", roc_auc_score(y_test, probs_sm[:, 1])))\n",
    "print(\"%s: %r\" % (\"f1_score_sm is: \", f1_score(y_test, predicted_sm )))#string to int\n",
    "\n",
    "print (\"confusion_matrix_sm is: \")\n",
    "cm_sm = confusion_matrix(y_test, predicted_sm)\n",
    "cmDF = pd.DataFrame(cm_sm, columns=['pred_0', 'pred_1'], index=['true_0', 'true_1'])\n",
    "print(cmDF)\n",
    "print('recall or sens_sm =',float(cm_sm[1,1])/(cm_sm[1,0]+cm_sm[1,1]))\n",
    "print('precision_sm =', float(cm_sm[1,1])/(cm_sm[1,1] + cm_sm[0,1]))\n",
    "\n",
    "#different AUC??"
   ]
  },
  {
   "cell_type": "code",
   "execution_count": null,
   "id": "6fd98d7e",
   "metadata": {},
   "outputs": [],
   "source": []
  },
  {
   "cell_type": "markdown",
   "id": "8cc87d70",
   "metadata": {},
   "source": [
    "### Prameter tuning by GridSearchCV"
   ]
  },
  {
   "cell_type": "code",
   "execution_count": 62,
   "id": "4e06fe54",
   "metadata": {},
   "outputs": [],
   "source": [
    "# Eval metrics to be calculated for each combination of parameters, they are all calculated(by scoring), but not necessarily use all of them to pick the optimal(only use refit_score)\n",
    "scorers = {\n",
    "    'precision_score': make_scorer(precision_score),\n",
    "    'recall_score': make_scorer(recall_score),\n",
    "    'f1_score': make_scorer(f1_score, pos_label=1)\n",
    "    \n",
    "}"
   ]
  },
  {
   "cell_type": "code",
   "execution_count": 63,
   "id": "f0948584",
   "metadata": {},
   "outputs": [],
   "source": [
    "def grid_search_wrapper(model, parameters, refit_score='f1_score'):\n",
    "    \"\"\"\n",
    "    fits a GridSearchCV classifier using refit_score for optimization(refit on the best model according to refit_score)\n",
    "    prints classifier performance metrics\n",
    "    \"\"\"\n",
    "\n",
    "    grid_search = GridSearchCV(model, parameters, scoring=scorers, refit=refit_score,\n",
    "                           cv=3, return_train_score=True)\n",
    "    grid_search.fit(X_train, y_train)\n",
    "\n",
    "    # make the predictions\n",
    "    y_pred = grid_search.predict(X_test)\n",
    "    y_prob = grid_search.predict_proba(X_test)[:, 1]\n",
    "    \n",
    "    print('Best params for {}'.format(refit_score))\n",
    "    print(grid_search.best_params_)\n",
    "\n",
    "    # confusion matrix on the test data.\n",
    "    print('\\nConfusion matrix of Random Forest optimized for {} on the test data:'.format(refit_score))\n",
    "    cm = confusion_matrix(y_test, y_pred)\n",
    "    cmDF = pd.DataFrame(cm, columns=['pred_0', 'pred_1'], index=['true_0', 'true_1'])\n",
    "    print(cmDF)\n",
    "    \n",
    "    print(\"\\t%s: %r\" % (\"roc_auc_score is: \", roc_auc_score(y_test, y_prob)))\n",
    "    print(\"\\t%s: %r\" % (\"f1_score is: \", f1_score(y_test, y_pred)))#string to int\n",
    "\n",
    "    print('recall = ', float(cm[1,1]) / (cm[1,0] + cm[1,1]))\n",
    "    print('precision = ', float(cm[1,1]) / (cm[1, 1] + cm[0,1]))\n",
    "\n",
    "    return grid_search"
   ]
  },
  {
   "cell_type": "markdown",
   "id": "6491c433",
   "metadata": {},
   "source": [
    "Optimizing on f1_score on LR"
   ]
  },
  {
   "cell_type": "code",
   "execution_count": 64,
   "id": "f3065b4c",
   "metadata": {
    "tags": []
   },
   "outputs": [
    {
     "name": "stderr",
     "output_type": "stream",
     "text": [
      "C:\\ProgramData\\Anaconda3\\lib\\site-packages\\sklearn\\model_selection\\_validation.py:610: FitFailedWarning: Estimator fit failed. The score on this train-test partition for these parameters will be set to nan. Details: \n",
      "Traceback (most recent call last):\n",
      "  File \"C:\\ProgramData\\Anaconda3\\lib\\site-packages\\sklearn\\model_selection\\_validation.py\", line 593, in _fit_and_score\n",
      "    estimator.fit(X_train, y_train, **fit_params)\n",
      "  File \"C:\\ProgramData\\Anaconda3\\lib\\site-packages\\sklearn\\linear_model\\_logistic.py\", line 1306, in fit\n",
      "    solver = _check_solver(self.solver, self.penalty, self.dual)\n",
      "  File \"C:\\ProgramData\\Anaconda3\\lib\\site-packages\\sklearn\\linear_model\\_logistic.py\", line 443, in _check_solver\n",
      "    raise ValueError(\"Solver %s supports only 'l2' or 'none' penalties, \"\n",
      "ValueError: Solver lbfgs supports only 'l2' or 'none' penalties, got l1 penalty.\n",
      "\n",
      "  warnings.warn(\"Estimator fit failed. The score on this train-test\"\n",
      "C:\\ProgramData\\Anaconda3\\lib\\site-packages\\sklearn\\model_selection\\_validation.py:610: FitFailedWarning: Estimator fit failed. The score on this train-test partition for these parameters will be set to nan. Details: \n",
      "Traceback (most recent call last):\n",
      "  File \"C:\\ProgramData\\Anaconda3\\lib\\site-packages\\sklearn\\model_selection\\_validation.py\", line 593, in _fit_and_score\n",
      "    estimator.fit(X_train, y_train, **fit_params)\n",
      "  File \"C:\\ProgramData\\Anaconda3\\lib\\site-packages\\sklearn\\linear_model\\_logistic.py\", line 1306, in fit\n",
      "    solver = _check_solver(self.solver, self.penalty, self.dual)\n",
      "  File \"C:\\ProgramData\\Anaconda3\\lib\\site-packages\\sklearn\\linear_model\\_logistic.py\", line 443, in _check_solver\n",
      "    raise ValueError(\"Solver %s supports only 'l2' or 'none' penalties, \"\n",
      "ValueError: Solver lbfgs supports only 'l2' or 'none' penalties, got l1 penalty.\n",
      "\n",
      "  warnings.warn(\"Estimator fit failed. The score on this train-test\"\n",
      "C:\\ProgramData\\Anaconda3\\lib\\site-packages\\sklearn\\model_selection\\_validation.py:610: FitFailedWarning: Estimator fit failed. The score on this train-test partition for these parameters will be set to nan. Details: \n",
      "Traceback (most recent call last):\n",
      "  File \"C:\\ProgramData\\Anaconda3\\lib\\site-packages\\sklearn\\model_selection\\_validation.py\", line 593, in _fit_and_score\n",
      "    estimator.fit(X_train, y_train, **fit_params)\n",
      "  File \"C:\\ProgramData\\Anaconda3\\lib\\site-packages\\sklearn\\linear_model\\_logistic.py\", line 1306, in fit\n",
      "    solver = _check_solver(self.solver, self.penalty, self.dual)\n",
      "  File \"C:\\ProgramData\\Anaconda3\\lib\\site-packages\\sklearn\\linear_model\\_logistic.py\", line 443, in _check_solver\n",
      "    raise ValueError(\"Solver %s supports only 'l2' or 'none' penalties, \"\n",
      "ValueError: Solver lbfgs supports only 'l2' or 'none' penalties, got l1 penalty.\n",
      "\n",
      "  warnings.warn(\"Estimator fit failed. The score on this train-test\"\n",
      "C:\\ProgramData\\Anaconda3\\lib\\site-packages\\sklearn\\metrics\\_classification.py:1245: UndefinedMetricWarning: Precision is ill-defined and being set to 0.0 due to no predicted samples. Use `zero_division` parameter to control this behavior.\n",
      "  _warn_prf(average, modifier, msg_start, len(result))\n",
      "C:\\ProgramData\\Anaconda3\\lib\\site-packages\\sklearn\\metrics\\_classification.py:1245: UndefinedMetricWarning: Precision is ill-defined and being set to 0.0 due to no predicted samples. Use `zero_division` parameter to control this behavior.\n",
      "  _warn_prf(average, modifier, msg_start, len(result))\n",
      "C:\\ProgramData\\Anaconda3\\lib\\site-packages\\sklearn\\metrics\\_classification.py:1245: UndefinedMetricWarning: Precision is ill-defined and being set to 0.0 due to no predicted samples. Use `zero_division` parameter to control this behavior.\n",
      "  _warn_prf(average, modifier, msg_start, len(result))\n",
      "C:\\ProgramData\\Anaconda3\\lib\\site-packages\\sklearn\\metrics\\_classification.py:1245: UndefinedMetricWarning: Precision is ill-defined and being set to 0.0 due to no predicted samples. Use `zero_division` parameter to control this behavior.\n",
      "  _warn_prf(average, modifier, msg_start, len(result))\n",
      "C:\\ProgramData\\Anaconda3\\lib\\site-packages\\sklearn\\metrics\\_classification.py:1245: UndefinedMetricWarning: Precision is ill-defined and being set to 0.0 due to no predicted samples. Use `zero_division` parameter to control this behavior.\n",
      "  _warn_prf(average, modifier, msg_start, len(result))\n",
      "C:\\ProgramData\\Anaconda3\\lib\\site-packages\\sklearn\\metrics\\_classification.py:1245: UndefinedMetricWarning: Precision is ill-defined and being set to 0.0 due to no predicted samples. Use `zero_division` parameter to control this behavior.\n",
      "  _warn_prf(average, modifier, msg_start, len(result))\n",
      "C:\\ProgramData\\Anaconda3\\lib\\site-packages\\sklearn\\model_selection\\_validation.py:610: FitFailedWarning: Estimator fit failed. The score on this train-test partition for these parameters will be set to nan. Details: \n",
      "Traceback (most recent call last):\n",
      "  File \"C:\\ProgramData\\Anaconda3\\lib\\site-packages\\sklearn\\model_selection\\_validation.py\", line 593, in _fit_and_score\n",
      "    estimator.fit(X_train, y_train, **fit_params)\n",
      "  File \"C:\\ProgramData\\Anaconda3\\lib\\site-packages\\sklearn\\linear_model\\_logistic.py\", line 1306, in fit\n",
      "    solver = _check_solver(self.solver, self.penalty, self.dual)\n",
      "  File \"C:\\ProgramData\\Anaconda3\\lib\\site-packages\\sklearn\\linear_model\\_logistic.py\", line 443, in _check_solver\n",
      "    raise ValueError(\"Solver %s supports only 'l2' or 'none' penalties, \"\n",
      "ValueError: Solver lbfgs supports only 'l2' or 'none' penalties, got l1 penalty.\n",
      "\n",
      "  warnings.warn(\"Estimator fit failed. The score on this train-test\"\n",
      "C:\\ProgramData\\Anaconda3\\lib\\site-packages\\sklearn\\model_selection\\_validation.py:610: FitFailedWarning: Estimator fit failed. The score on this train-test partition for these parameters will be set to nan. Details: \n",
      "Traceback (most recent call last):\n",
      "  File \"C:\\ProgramData\\Anaconda3\\lib\\site-packages\\sklearn\\model_selection\\_validation.py\", line 593, in _fit_and_score\n",
      "    estimator.fit(X_train, y_train, **fit_params)\n",
      "  File \"C:\\ProgramData\\Anaconda3\\lib\\site-packages\\sklearn\\linear_model\\_logistic.py\", line 1306, in fit\n",
      "    solver = _check_solver(self.solver, self.penalty, self.dual)\n",
      "  File \"C:\\ProgramData\\Anaconda3\\lib\\site-packages\\sklearn\\linear_model\\_logistic.py\", line 443, in _check_solver\n",
      "    raise ValueError(\"Solver %s supports only 'l2' or 'none' penalties, \"\n",
      "ValueError: Solver lbfgs supports only 'l2' or 'none' penalties, got l1 penalty.\n",
      "\n",
      "  warnings.warn(\"Estimator fit failed. The score on this train-test\"\n",
      "C:\\ProgramData\\Anaconda3\\lib\\site-packages\\sklearn\\model_selection\\_validation.py:610: FitFailedWarning: Estimator fit failed. The score on this train-test partition for these parameters will be set to nan. Details: \n",
      "Traceback (most recent call last):\n",
      "  File \"C:\\ProgramData\\Anaconda3\\lib\\site-packages\\sklearn\\model_selection\\_validation.py\", line 593, in _fit_and_score\n",
      "    estimator.fit(X_train, y_train, **fit_params)\n",
      "  File \"C:\\ProgramData\\Anaconda3\\lib\\site-packages\\sklearn\\linear_model\\_logistic.py\", line 1306, in fit\n",
      "    solver = _check_solver(self.solver, self.penalty, self.dual)\n",
      "  File \"C:\\ProgramData\\Anaconda3\\lib\\site-packages\\sklearn\\linear_model\\_logistic.py\", line 443, in _check_solver\n",
      "    raise ValueError(\"Solver %s supports only 'l2' or 'none' penalties, \"\n",
      "ValueError: Solver lbfgs supports only 'l2' or 'none' penalties, got l1 penalty.\n",
      "\n",
      "  warnings.warn(\"Estimator fit failed. The score on this train-test\"\n",
      "C:\\ProgramData\\Anaconda3\\lib\\site-packages\\sklearn\\metrics\\_classification.py:1245: UndefinedMetricWarning: Precision is ill-defined and being set to 0.0 due to no predicted samples. Use `zero_division` parameter to control this behavior.\n",
      "  _warn_prf(average, modifier, msg_start, len(result))\n",
      "C:\\ProgramData\\Anaconda3\\lib\\site-packages\\sklearn\\metrics\\_classification.py:1245: UndefinedMetricWarning: Precision is ill-defined and being set to 0.0 due to no predicted samples. Use `zero_division` parameter to control this behavior.\n",
      "  _warn_prf(average, modifier, msg_start, len(result))\n",
      "C:\\ProgramData\\Anaconda3\\lib\\site-packages\\sklearn\\metrics\\_classification.py:1245: UndefinedMetricWarning: Precision is ill-defined and being set to 0.0 due to no predicted samples. Use `zero_division` parameter to control this behavior.\n",
      "  _warn_prf(average, modifier, msg_start, len(result))\n",
      "C:\\ProgramData\\Anaconda3\\lib\\site-packages\\sklearn\\metrics\\_classification.py:1245: UndefinedMetricWarning: Precision is ill-defined and being set to 0.0 due to no predicted samples. Use `zero_division` parameter to control this behavior.\n",
      "  _warn_prf(average, modifier, msg_start, len(result))\n",
      "C:\\ProgramData\\Anaconda3\\lib\\site-packages\\sklearn\\metrics\\_classification.py:1245: UndefinedMetricWarning: Precision is ill-defined and being set to 0.0 due to no predicted samples. Use `zero_division` parameter to control this behavior.\n",
      "  _warn_prf(average, modifier, msg_start, len(result))\n",
      "C:\\ProgramData\\Anaconda3\\lib\\site-packages\\sklearn\\metrics\\_classification.py:1245: UndefinedMetricWarning: Precision is ill-defined and being set to 0.0 due to no predicted samples. Use `zero_division` parameter to control this behavior.\n",
      "  _warn_prf(average, modifier, msg_start, len(result))\n",
      "C:\\ProgramData\\Anaconda3\\lib\\site-packages\\sklearn\\model_selection\\_validation.py:610: FitFailedWarning: Estimator fit failed. The score on this train-test partition for these parameters will be set to nan. Details: \n",
      "Traceback (most recent call last):\n",
      "  File \"C:\\ProgramData\\Anaconda3\\lib\\site-packages\\sklearn\\model_selection\\_validation.py\", line 593, in _fit_and_score\n",
      "    estimator.fit(X_train, y_train, **fit_params)\n",
      "  File \"C:\\ProgramData\\Anaconda3\\lib\\site-packages\\sklearn\\linear_model\\_logistic.py\", line 1306, in fit\n",
      "    solver = _check_solver(self.solver, self.penalty, self.dual)\n",
      "  File \"C:\\ProgramData\\Anaconda3\\lib\\site-packages\\sklearn\\linear_model\\_logistic.py\", line 443, in _check_solver\n",
      "    raise ValueError(\"Solver %s supports only 'l2' or 'none' penalties, \"\n",
      "ValueError: Solver lbfgs supports only 'l2' or 'none' penalties, got l1 penalty.\n",
      "\n",
      "  warnings.warn(\"Estimator fit failed. The score on this train-test\"\n",
      "C:\\ProgramData\\Anaconda3\\lib\\site-packages\\sklearn\\model_selection\\_validation.py:610: FitFailedWarning: Estimator fit failed. The score on this train-test partition for these parameters will be set to nan. Details: \n",
      "Traceback (most recent call last):\n",
      "  File \"C:\\ProgramData\\Anaconda3\\lib\\site-packages\\sklearn\\model_selection\\_validation.py\", line 593, in _fit_and_score\n",
      "    estimator.fit(X_train, y_train, **fit_params)\n",
      "  File \"C:\\ProgramData\\Anaconda3\\lib\\site-packages\\sklearn\\linear_model\\_logistic.py\", line 1306, in fit\n",
      "    solver = _check_solver(self.solver, self.penalty, self.dual)\n",
      "  File \"C:\\ProgramData\\Anaconda3\\lib\\site-packages\\sklearn\\linear_model\\_logistic.py\", line 443, in _check_solver\n",
      "    raise ValueError(\"Solver %s supports only 'l2' or 'none' penalties, \"\n",
      "ValueError: Solver lbfgs supports only 'l2' or 'none' penalties, got l1 penalty.\n",
      "\n",
      "  warnings.warn(\"Estimator fit failed. The score on this train-test\"\n",
      "C:\\ProgramData\\Anaconda3\\lib\\site-packages\\sklearn\\model_selection\\_validation.py:610: FitFailedWarning: Estimator fit failed. The score on this train-test partition for these parameters will be set to nan. Details: \n",
      "Traceback (most recent call last):\n",
      "  File \"C:\\ProgramData\\Anaconda3\\lib\\site-packages\\sklearn\\model_selection\\_validation.py\", line 593, in _fit_and_score\n",
      "    estimator.fit(X_train, y_train, **fit_params)\n",
      "  File \"C:\\ProgramData\\Anaconda3\\lib\\site-packages\\sklearn\\linear_model\\_logistic.py\", line 1306, in fit\n",
      "    solver = _check_solver(self.solver, self.penalty, self.dual)\n",
      "  File \"C:\\ProgramData\\Anaconda3\\lib\\site-packages\\sklearn\\linear_model\\_logistic.py\", line 443, in _check_solver\n",
      "    raise ValueError(\"Solver %s supports only 'l2' or 'none' penalties, \"\n",
      "ValueError: Solver lbfgs supports only 'l2' or 'none' penalties, got l1 penalty.\n",
      "\n",
      "  warnings.warn(\"Estimator fit failed. The score on this train-test\"\n",
      "C:\\ProgramData\\Anaconda3\\lib\\site-packages\\sklearn\\metrics\\_classification.py:1245: UndefinedMetricWarning: Precision is ill-defined and being set to 0.0 due to no predicted samples. Use `zero_division` parameter to control this behavior.\n",
      "  _warn_prf(average, modifier, msg_start, len(result))\n",
      "C:\\ProgramData\\Anaconda3\\lib\\site-packages\\sklearn\\metrics\\_classification.py:1245: UndefinedMetricWarning: Precision is ill-defined and being set to 0.0 due to no predicted samples. Use `zero_division` parameter to control this behavior.\n",
      "  _warn_prf(average, modifier, msg_start, len(result))\n",
      "C:\\ProgramData\\Anaconda3\\lib\\site-packages\\sklearn\\metrics\\_classification.py:1245: UndefinedMetricWarning: Precision is ill-defined and being set to 0.0 due to no predicted samples. Use `zero_division` parameter to control this behavior.\n",
      "  _warn_prf(average, modifier, msg_start, len(result))\n",
      "C:\\ProgramData\\Anaconda3\\lib\\site-packages\\sklearn\\metrics\\_classification.py:1245: UndefinedMetricWarning: Precision is ill-defined and being set to 0.0 due to no predicted samples. Use `zero_division` parameter to control this behavior.\n",
      "  _warn_prf(average, modifier, msg_start, len(result))\n",
      "C:\\ProgramData\\Anaconda3\\lib\\site-packages\\sklearn\\metrics\\_classification.py:1245: UndefinedMetricWarning: Precision is ill-defined and being set to 0.0 due to no predicted samples. Use `zero_division` parameter to control this behavior.\n",
      "  _warn_prf(average, modifier, msg_start, len(result))\n",
      "C:\\ProgramData\\Anaconda3\\lib\\site-packages\\sklearn\\metrics\\_classification.py:1245: UndefinedMetricWarning: Precision is ill-defined and being set to 0.0 due to no predicted samples. Use `zero_division` parameter to control this behavior.\n",
      "  _warn_prf(average, modifier, msg_start, len(result))\n",
      "C:\\ProgramData\\Anaconda3\\lib\\site-packages\\sklearn\\model_selection\\_validation.py:610: FitFailedWarning: Estimator fit failed. The score on this train-test partition for these parameters will be set to nan. Details: \n",
      "Traceback (most recent call last):\n",
      "  File \"C:\\ProgramData\\Anaconda3\\lib\\site-packages\\sklearn\\model_selection\\_validation.py\", line 593, in _fit_and_score\n",
      "    estimator.fit(X_train, y_train, **fit_params)\n",
      "  File \"C:\\ProgramData\\Anaconda3\\lib\\site-packages\\sklearn\\linear_model\\_logistic.py\", line 1306, in fit\n",
      "    solver = _check_solver(self.solver, self.penalty, self.dual)\n",
      "  File \"C:\\ProgramData\\Anaconda3\\lib\\site-packages\\sklearn\\linear_model\\_logistic.py\", line 443, in _check_solver\n",
      "    raise ValueError(\"Solver %s supports only 'l2' or 'none' penalties, \"\n",
      "ValueError: Solver lbfgs supports only 'l2' or 'none' penalties, got l1 penalty.\n",
      "\n",
      "  warnings.warn(\"Estimator fit failed. The score on this train-test\"\n",
      "C:\\ProgramData\\Anaconda3\\lib\\site-packages\\sklearn\\model_selection\\_validation.py:610: FitFailedWarning: Estimator fit failed. The score on this train-test partition for these parameters will be set to nan. Details: \n",
      "Traceback (most recent call last):\n",
      "  File \"C:\\ProgramData\\Anaconda3\\lib\\site-packages\\sklearn\\model_selection\\_validation.py\", line 593, in _fit_and_score\n",
      "    estimator.fit(X_train, y_train, **fit_params)\n",
      "  File \"C:\\ProgramData\\Anaconda3\\lib\\site-packages\\sklearn\\linear_model\\_logistic.py\", line 1306, in fit\n",
      "    solver = _check_solver(self.solver, self.penalty, self.dual)\n",
      "  File \"C:\\ProgramData\\Anaconda3\\lib\\site-packages\\sklearn\\linear_model\\_logistic.py\", line 443, in _check_solver\n",
      "    raise ValueError(\"Solver %s supports only 'l2' or 'none' penalties, \"\n",
      "ValueError: Solver lbfgs supports only 'l2' or 'none' penalties, got l1 penalty.\n",
      "\n",
      "  warnings.warn(\"Estimator fit failed. The score on this train-test\"\n",
      "C:\\ProgramData\\Anaconda3\\lib\\site-packages\\sklearn\\model_selection\\_validation.py:610: FitFailedWarning: Estimator fit failed. The score on this train-test partition for these parameters will be set to nan. Details: \n",
      "Traceback (most recent call last):\n",
      "  File \"C:\\ProgramData\\Anaconda3\\lib\\site-packages\\sklearn\\model_selection\\_validation.py\", line 593, in _fit_and_score\n",
      "    estimator.fit(X_train, y_train, **fit_params)\n",
      "  File \"C:\\ProgramData\\Anaconda3\\lib\\site-packages\\sklearn\\linear_model\\_logistic.py\", line 1306, in fit\n",
      "    solver = _check_solver(self.solver, self.penalty, self.dual)\n",
      "  File \"C:\\ProgramData\\Anaconda3\\lib\\site-packages\\sklearn\\linear_model\\_logistic.py\", line 443, in _check_solver\n",
      "    raise ValueError(\"Solver %s supports only 'l2' or 'none' penalties, \"\n",
      "ValueError: Solver lbfgs supports only 'l2' or 'none' penalties, got l1 penalty.\n",
      "\n",
      "  warnings.warn(\"Estimator fit failed. The score on this train-test\"\n",
      "C:\\ProgramData\\Anaconda3\\lib\\site-packages\\sklearn\\metrics\\_classification.py:1245: UndefinedMetricWarning: Precision is ill-defined and being set to 0.0 due to no predicted samples. Use `zero_division` parameter to control this behavior.\n",
      "  _warn_prf(average, modifier, msg_start, len(result))\n",
      "C:\\ProgramData\\Anaconda3\\lib\\site-packages\\sklearn\\metrics\\_classification.py:1245: UndefinedMetricWarning: Precision is ill-defined and being set to 0.0 due to no predicted samples. Use `zero_division` parameter to control this behavior.\n",
      "  _warn_prf(average, modifier, msg_start, len(result))\n",
      "C:\\ProgramData\\Anaconda3\\lib\\site-packages\\sklearn\\metrics\\_classification.py:1245: UndefinedMetricWarning: Precision is ill-defined and being set to 0.0 due to no predicted samples. Use `zero_division` parameter to control this behavior.\n",
      "  _warn_prf(average, modifier, msg_start, len(result))\n",
      "C:\\ProgramData\\Anaconda3\\lib\\site-packages\\sklearn\\metrics\\_classification.py:1245: UndefinedMetricWarning: Precision is ill-defined and being set to 0.0 due to no predicted samples. Use `zero_division` parameter to control this behavior.\n",
      "  _warn_prf(average, modifier, msg_start, len(result))\n",
      "C:\\ProgramData\\Anaconda3\\lib\\site-packages\\sklearn\\metrics\\_classification.py:1245: UndefinedMetricWarning: Precision is ill-defined and being set to 0.0 due to no predicted samples. Use `zero_division` parameter to control this behavior.\n",
      "  _warn_prf(average, modifier, msg_start, len(result))\n",
      "C:\\ProgramData\\Anaconda3\\lib\\site-packages\\sklearn\\metrics\\_classification.py:1245: UndefinedMetricWarning: Precision is ill-defined and being set to 0.0 due to no predicted samples. Use `zero_division` parameter to control this behavior.\n",
      "  _warn_prf(average, modifier, msg_start, len(result))\n",
      "C:\\ProgramData\\Anaconda3\\lib\\site-packages\\sklearn\\model_selection\\_validation.py:610: FitFailedWarning: Estimator fit failed. The score on this train-test partition for these parameters will be set to nan. Details: \n",
      "Traceback (most recent call last):\n",
      "  File \"C:\\ProgramData\\Anaconda3\\lib\\site-packages\\sklearn\\model_selection\\_validation.py\", line 593, in _fit_and_score\n",
      "    estimator.fit(X_train, y_train, **fit_params)\n",
      "  File \"C:\\ProgramData\\Anaconda3\\lib\\site-packages\\sklearn\\linear_model\\_logistic.py\", line 1306, in fit\n",
      "    solver = _check_solver(self.solver, self.penalty, self.dual)\n",
      "  File \"C:\\ProgramData\\Anaconda3\\lib\\site-packages\\sklearn\\linear_model\\_logistic.py\", line 443, in _check_solver\n",
      "    raise ValueError(\"Solver %s supports only 'l2' or 'none' penalties, \"\n",
      "ValueError: Solver lbfgs supports only 'l2' or 'none' penalties, got l1 penalty.\n",
      "\n",
      "  warnings.warn(\"Estimator fit failed. The score on this train-test\"\n",
      "C:\\ProgramData\\Anaconda3\\lib\\site-packages\\sklearn\\model_selection\\_validation.py:610: FitFailedWarning: Estimator fit failed. The score on this train-test partition for these parameters will be set to nan. Details: \n",
      "Traceback (most recent call last):\n",
      "  File \"C:\\ProgramData\\Anaconda3\\lib\\site-packages\\sklearn\\model_selection\\_validation.py\", line 593, in _fit_and_score\n",
      "    estimator.fit(X_train, y_train, **fit_params)\n",
      "  File \"C:\\ProgramData\\Anaconda3\\lib\\site-packages\\sklearn\\linear_model\\_logistic.py\", line 1306, in fit\n",
      "    solver = _check_solver(self.solver, self.penalty, self.dual)\n",
      "  File \"C:\\ProgramData\\Anaconda3\\lib\\site-packages\\sklearn\\linear_model\\_logistic.py\", line 443, in _check_solver\n",
      "    raise ValueError(\"Solver %s supports only 'l2' or 'none' penalties, \"\n",
      "ValueError: Solver lbfgs supports only 'l2' or 'none' penalties, got l1 penalty.\n",
      "\n",
      "  warnings.warn(\"Estimator fit failed. The score on this train-test\"\n",
      "C:\\ProgramData\\Anaconda3\\lib\\site-packages\\sklearn\\model_selection\\_validation.py:610: FitFailedWarning: Estimator fit failed. The score on this train-test partition for these parameters will be set to nan. Details: \n",
      "Traceback (most recent call last):\n",
      "  File \"C:\\ProgramData\\Anaconda3\\lib\\site-packages\\sklearn\\model_selection\\_validation.py\", line 593, in _fit_and_score\n",
      "    estimator.fit(X_train, y_train, **fit_params)\n",
      "  File \"C:\\ProgramData\\Anaconda3\\lib\\site-packages\\sklearn\\linear_model\\_logistic.py\", line 1306, in fit\n",
      "    solver = _check_solver(self.solver, self.penalty, self.dual)\n",
      "  File \"C:\\ProgramData\\Anaconda3\\lib\\site-packages\\sklearn\\linear_model\\_logistic.py\", line 443, in _check_solver\n",
      "    raise ValueError(\"Solver %s supports only 'l2' or 'none' penalties, \"\n",
      "ValueError: Solver lbfgs supports only 'l2' or 'none' penalties, got l1 penalty.\n",
      "\n",
      "  warnings.warn(\"Estimator fit failed. The score on this train-test\"\n",
      "C:\\ProgramData\\Anaconda3\\lib\\site-packages\\sklearn\\metrics\\_classification.py:1245: UndefinedMetricWarning: Precision is ill-defined and being set to 0.0 due to no predicted samples. Use `zero_division` parameter to control this behavior.\n",
      "  _warn_prf(average, modifier, msg_start, len(result))\n",
      "C:\\ProgramData\\Anaconda3\\lib\\site-packages\\sklearn\\metrics\\_classification.py:1245: UndefinedMetricWarning: Precision is ill-defined and being set to 0.0 due to no predicted samples. Use `zero_division` parameter to control this behavior.\n",
      "  _warn_prf(average, modifier, msg_start, len(result))\n",
      "C:\\ProgramData\\Anaconda3\\lib\\site-packages\\sklearn\\metrics\\_classification.py:1245: UndefinedMetricWarning: Precision is ill-defined and being set to 0.0 due to no predicted samples. Use `zero_division` parameter to control this behavior.\n",
      "  _warn_prf(average, modifier, msg_start, len(result))\n",
      "C:\\ProgramData\\Anaconda3\\lib\\site-packages\\sklearn\\metrics\\_classification.py:1245: UndefinedMetricWarning: Precision is ill-defined and being set to 0.0 due to no predicted samples. Use `zero_division` parameter to control this behavior.\n",
      "  _warn_prf(average, modifier, msg_start, len(result))\n",
      "C:\\ProgramData\\Anaconda3\\lib\\site-packages\\sklearn\\metrics\\_classification.py:1245: UndefinedMetricWarning: Precision is ill-defined and being set to 0.0 due to no predicted samples. Use `zero_division` parameter to control this behavior.\n",
      "  _warn_prf(average, modifier, msg_start, len(result))\n",
      "C:\\ProgramData\\Anaconda3\\lib\\site-packages\\sklearn\\metrics\\_classification.py:1245: UndefinedMetricWarning: Precision is ill-defined and being set to 0.0 due to no predicted samples. Use `zero_division` parameter to control this behavior.\n",
      "  _warn_prf(average, modifier, msg_start, len(result))\n",
      "C:\\ProgramData\\Anaconda3\\lib\\site-packages\\sklearn\\model_selection\\_search.py:918: UserWarning: One or more of the test scores are non-finite: [nan  0. nan  0. nan  0. nan  0. nan  0.]\n",
      "  warnings.warn(\n",
      "C:\\ProgramData\\Anaconda3\\lib\\site-packages\\sklearn\\model_selection\\_search.py:918: UserWarning: One or more of the train scores are non-finite: [nan  0. nan  0. nan  0. nan  0. nan  0.]\n",
      "  warnings.warn(\n"
     ]
    },
    {
     "name": "stdout",
     "output_type": "stream",
     "text": [
      "Best params for f1_score\n",
      "{'C': 0.01, 'penalty': 'l2'}\n",
      "\n",
      "Confusion matrix of Random Forest optimized for f1_score on the test data:\n",
      "        pred_0  pred_1\n",
      "true_0   23390       0\n",
      "true_1     227       0\n",
      "\troc_auc_score is: : 0.7433051513034112\n",
      "\tf1_score is: : 0.0\n",
      "recall =  0.0\n",
      "precision =  nan\n"
     ]
    },
    {
     "name": "stderr",
     "output_type": "stream",
     "text": [
      "<ipython-input-63-37361cc18dba>:28: RuntimeWarning: invalid value encountered in true_divide\n",
      "  print('precision = ', float(cm[1,1]) / (cm[1, 1] + cm[0,1]))\n"
     ]
    }
   ],
   "source": [
    "# C: inverse of regularization strength, smaller values specify stronger regularization\n",
    "LRGrid = {\"C\" : np.logspace(-2,2,5), \"penalty\":[\"l1\",\"l2\"]}# l1 lasso l2 ridge\n",
    "#param_grid = {'C': [0.01, 0.1, 1, 10, 100], 'penalty': ['l1', 'l2']}\n",
    "logRegModel = LogisticRegression(random_state=0)\n",
    "\n",
    "grid_search_LR_f1 = grid_search_wrapper(logRegModel, LRGrid, refit_score='f1_score')"
   ]
  },
  {
   "cell_type": "markdown",
   "id": "64133fd8",
   "metadata": {},
   "source": [
    "Optimizing on f1_score on RF"
   ]
  },
  {
   "cell_type": "code",
   "execution_count": 65,
   "id": "08fdcb02",
   "metadata": {},
   "outputs": [],
   "source": [
    "parameters = {        \n",
    "'max_depth': [None, 5, 15],\n",
    "'n_estimators' :  [10,150],\n",
    "'class_weight' : [{0: 1, 1: w} for w in [0.2, 1, 100]]\n",
    "}\n",
    "\n",
    "clf = RandomForestClassifier(random_state=0)"
   ]
  },
  {
   "cell_type": "code",
   "execution_count": 66,
   "id": "132ffb5f",
   "metadata": {},
   "outputs": [
    {
     "name": "stdout",
     "output_type": "stream",
     "text": [
      "Best params for f1_score\n",
      "{'class_weight': {0: 1, 1: 100}, 'max_depth': None, 'n_estimators': 150}\n",
      "\n",
      "Confusion matrix of Random Forest optimized for f1_score on the test data:\n",
      "        pred_0  pred_1\n",
      "true_0   23390       0\n",
      "true_1     112     115\n",
      "\troc_auc_score is: : 0.7630692358834021\n",
      "\tf1_score is: : 0.672514619883041\n",
      "recall =  0.5066079295154186\n",
      "precision =  1.0\n"
     ]
    }
   ],
   "source": [
    "grid_search_rf_f1 = grid_search_wrapper(clf, parameters, refit_score='f1_score')"
   ]
  },
  {
   "cell_type": "code",
   "execution_count": 67,
   "id": "e6b8194e",
   "metadata": {},
   "outputs": [
    {
     "data": {
      "text/plain": [
       "RandomForestClassifier(class_weight={0: 1, 1: 100}, n_estimators=150,\n",
       "                       random_state=0)"
      ]
     },
     "execution_count": 67,
     "metadata": {},
     "output_type": "execute_result"
    }
   ],
   "source": [
    "best_rf_model_f1 = grid_search_rf_f1.best_estimator_\n",
    "best_rf_model_f1"
   ]
  },
  {
   "cell_type": "code",
   "execution_count": 68,
   "id": "7b585e90",
   "metadata": {},
   "outputs": [
    {
     "data": {
      "text/html": [
       "<div>\n",
       "<style scoped>\n",
       "    .dataframe tbody tr th:only-of-type {\n",
       "        vertical-align: middle;\n",
       "    }\n",
       "\n",
       "    .dataframe tbody tr th {\n",
       "        vertical-align: top;\n",
       "    }\n",
       "\n",
       "    .dataframe thead th {\n",
       "        text-align: right;\n",
       "    }\n",
       "</style>\n",
       "<table border=\"1\" class=\"dataframe\">\n",
       "  <thead>\n",
       "    <tr style=\"text-align: right;\">\n",
       "      <th></th>\n",
       "      <th>mean_test_precision_score</th>\n",
       "      <th>mean_test_recall_score</th>\n",
       "      <th>mean_test_f1_score</th>\n",
       "      <th>mean_train_precision_score</th>\n",
       "      <th>mean_train_recall_score</th>\n",
       "      <th>mean_train_f1_score</th>\n",
       "      <th>param_max_depth</th>\n",
       "      <th>param_class_weight</th>\n",
       "      <th>param_n_estimators</th>\n",
       "    </tr>\n",
       "  </thead>\n",
       "  <tbody>\n",
       "    <tr>\n",
       "      <th>13</th>\n",
       "      <td>0.998</td>\n",
       "      <td>0.534</td>\n",
       "      <td>0.695</td>\n",
       "      <td>1.0</td>\n",
       "      <td>1.000</td>\n",
       "      <td>1.000</td>\n",
       "      <td>None</td>\n",
       "      <td>{0: 1, 1: 100}</td>\n",
       "      <td>150</td>\n",
       "    </tr>\n",
       "    <tr>\n",
       "      <th>0</th>\n",
       "      <td>0.998</td>\n",
       "      <td>0.534</td>\n",
       "      <td>0.695</td>\n",
       "      <td>1.0</td>\n",
       "      <td>0.874</td>\n",
       "      <td>0.933</td>\n",
       "      <td>None</td>\n",
       "      <td>{0: 1, 1: 0.2}</td>\n",
       "      <td>10</td>\n",
       "    </tr>\n",
       "    <tr>\n",
       "      <th>7</th>\n",
       "      <td>0.996</td>\n",
       "      <td>0.534</td>\n",
       "      <td>0.695</td>\n",
       "      <td>1.0</td>\n",
       "      <td>1.000</td>\n",
       "      <td>1.000</td>\n",
       "      <td>None</td>\n",
       "      <td>{0: 1, 1: 1}</td>\n",
       "      <td>150</td>\n",
       "    </tr>\n",
       "    <tr>\n",
       "      <th>11</th>\n",
       "      <td>0.996</td>\n",
       "      <td>0.534</td>\n",
       "      <td>0.695</td>\n",
       "      <td>1.0</td>\n",
       "      <td>0.579</td>\n",
       "      <td>0.733</td>\n",
       "      <td>15</td>\n",
       "      <td>{0: 1, 1: 1}</td>\n",
       "      <td>150</td>\n",
       "    </tr>\n",
       "    <tr>\n",
       "      <th>1</th>\n",
       "      <td>0.996</td>\n",
       "      <td>0.534</td>\n",
       "      <td>0.695</td>\n",
       "      <td>1.0</td>\n",
       "      <td>1.000</td>\n",
       "      <td>1.000</td>\n",
       "      <td>None</td>\n",
       "      <td>{0: 1, 1: 0.2}</td>\n",
       "      <td>150</td>\n",
       "    </tr>\n",
       "  </tbody>\n",
       "</table>\n",
       "</div>"
      ],
      "text/plain": [
       "    mean_test_precision_score  mean_test_recall_score  mean_test_f1_score  \\\n",
       "13                      0.998                   0.534               0.695   \n",
       "0                       0.998                   0.534               0.695   \n",
       "7                       0.996                   0.534               0.695   \n",
       "11                      0.996                   0.534               0.695   \n",
       "1                       0.996                   0.534               0.695   \n",
       "\n",
       "    mean_train_precision_score  mean_train_recall_score  mean_train_f1_score  \\\n",
       "13                         1.0                    1.000                1.000   \n",
       "0                          1.0                    0.874                0.933   \n",
       "7                          1.0                    1.000                1.000   \n",
       "11                         1.0                    0.579                0.733   \n",
       "1                          1.0                    1.000                1.000   \n",
       "\n",
       "   param_max_depth param_class_weight param_n_estimators  \n",
       "13            None     {0: 1, 1: 100}                150  \n",
       "0             None     {0: 1, 1: 0.2}                 10  \n",
       "7             None       {0: 1, 1: 1}                150  \n",
       "11              15       {0: 1, 1: 1}                150  \n",
       "1             None     {0: 1, 1: 0.2}                150  "
      ]
     },
     "execution_count": 68,
     "metadata": {},
     "output_type": "execute_result"
    }
   ],
   "source": [
    "results_f1 = pd.DataFrame(grid_search_rf_f1.cv_results_)\n",
    "results_sortf1 = results_f1.sort_values(by='mean_test_f1_score', ascending=False)\n",
    "results_sortf1[['mean_test_precision_score', 'mean_test_recall_score', 'mean_test_f1_score', 'mean_train_precision_score', 'mean_train_recall_score', 'mean_train_f1_score','param_max_depth', 'param_class_weight', 'param_n_estimators']].round(3).head()"
   ]
  },
  {
   "cell_type": "code",
   "execution_count": 69,
   "id": "bb18bce8",
   "metadata": {},
   "outputs": [
    {
     "data": {
      "text/html": [
       "<div>\n",
       "<style scoped>\n",
       "    .dataframe tbody tr th:only-of-type {\n",
       "        vertical-align: middle;\n",
       "    }\n",
       "\n",
       "    .dataframe tbody tr th {\n",
       "        vertical-align: top;\n",
       "    }\n",
       "\n",
       "    .dataframe thead th {\n",
       "        text-align: right;\n",
       "    }\n",
       "</style>\n",
       "<table border=\"1\" class=\"dataframe\">\n",
       "  <thead>\n",
       "    <tr style=\"text-align: right;\">\n",
       "      <th></th>\n",
       "      <th>importance</th>\n",
       "    </tr>\n",
       "  </thead>\n",
       "  <tbody>\n",
       "    <tr>\n",
       "      <th>interval_after_signup</th>\n",
       "      <td>0.201422</td>\n",
       "    </tr>\n",
       "    <tr>\n",
       "      <th>purchase_days_of_year</th>\n",
       "      <td>0.161670</td>\n",
       "    </tr>\n",
       "    <tr>\n",
       "      <th>signup_days_of_year</th>\n",
       "      <td>0.114821</td>\n",
       "    </tr>\n",
       "    <tr>\n",
       "      <th>n_dev_shared</th>\n",
       "      <td>0.113671</td>\n",
       "    </tr>\n",
       "    <tr>\n",
       "      <th>signup_seconds_of_day</th>\n",
       "      <td>0.078233</td>\n",
       "    </tr>\n",
       "    <tr>\n",
       "      <th>purchase_seconds_of_day</th>\n",
       "      <td>0.076216</td>\n",
       "    </tr>\n",
       "    <tr>\n",
       "      <th>purchase_value</th>\n",
       "      <td>0.063910</td>\n",
       "    </tr>\n",
       "    <tr>\n",
       "      <th>age</th>\n",
       "      <td>0.058885</td>\n",
       "    </tr>\n",
       "    <tr>\n",
       "      <th>n_country_shared</th>\n",
       "      <td>0.040773</td>\n",
       "    </tr>\n",
       "    <tr>\n",
       "      <th>n_ip_shared</th>\n",
       "      <td>0.029472</td>\n",
       "    </tr>\n",
       "    <tr>\n",
       "      <th>sex</th>\n",
       "      <td>0.009959</td>\n",
       "    </tr>\n",
       "    <tr>\n",
       "      <th>source_SEO</th>\n",
       "      <td>0.007459</td>\n",
       "    </tr>\n",
       "    <tr>\n",
       "      <th>source_Direct</th>\n",
       "      <td>0.007418</td>\n",
       "    </tr>\n",
       "    <tr>\n",
       "      <th>source_Ads</th>\n",
       "      <td>0.007314</td>\n",
       "    </tr>\n",
       "    <tr>\n",
       "      <th>browser_Chrome</th>\n",
       "      <td>0.007207</td>\n",
       "    </tr>\n",
       "    <tr>\n",
       "      <th>browser_IE</th>\n",
       "      <td>0.007121</td>\n",
       "    </tr>\n",
       "    <tr>\n",
       "      <th>browser_Safari</th>\n",
       "      <td>0.006921</td>\n",
       "    </tr>\n",
       "    <tr>\n",
       "      <th>browser_FireFox</th>\n",
       "      <td>0.005673</td>\n",
       "    </tr>\n",
       "    <tr>\n",
       "      <th>browser_Opera</th>\n",
       "      <td>0.001856</td>\n",
       "    </tr>\n",
       "  </tbody>\n",
       "</table>\n",
       "</div>"
      ],
      "text/plain": [
       "                         importance\n",
       "interval_after_signup      0.201422\n",
       "purchase_days_of_year      0.161670\n",
       "signup_days_of_year        0.114821\n",
       "n_dev_shared               0.113671\n",
       "signup_seconds_of_day      0.078233\n",
       "purchase_seconds_of_day    0.076216\n",
       "purchase_value             0.063910\n",
       "age                        0.058885\n",
       "n_country_shared           0.040773\n",
       "n_ip_shared                0.029472\n",
       "sex                        0.009959\n",
       "source_SEO                 0.007459\n",
       "source_Direct              0.007418\n",
       "source_Ads                 0.007314\n",
       "browser_Chrome             0.007207\n",
       "browser_IE                 0.007121\n",
       "browser_Safari             0.006921\n",
       "browser_FireFox            0.005673\n",
       "browser_Opera              0.001856"
      ]
     },
     "execution_count": 69,
     "metadata": {},
     "output_type": "execute_result"
    }
   ],
   "source": [
    "#Var Importance, make a guess?\n",
    "pd.DataFrame(best_rf_model_f1.feature_importances_, index = X_train.columns, columns=['importance']).sort_values('importance', ascending=False)"
   ]
  },
  {
   "cell_type": "markdown",
   "id": "6e06f0dc",
   "metadata": {},
   "source": [
    "Optimizing recall_score on RF"
   ]
  },
  {
   "cell_type": "code",
   "execution_count": 70,
   "id": "a6aab8ee",
   "metadata": {},
   "outputs": [
    {
     "name": "stdout",
     "output_type": "stream",
     "text": [
      "Best params for recall_score\n",
      "{'class_weight': {0: 1, 1: 100}, 'max_depth': 5, 'n_estimators': 150}\n",
      "\n",
      "Confusion matrix of Random Forest optimized for recall_score on the test data:\n",
      "        pred_0  pred_1\n",
      "true_0   23246     144\n",
      "true_1     108     119\n",
      "\troc_auc_score is: : 0.7631381685384582\n",
      "\tf1_score is: : 0.4857142857142857\n",
      "recall =  0.5242290748898678\n",
      "precision =  0.4524714828897338\n"
     ]
    }
   ],
   "source": [
    "grid_search_rf_recall = grid_search_wrapper(clf, parameters, refit_score='recall_score')"
   ]
  },
  {
   "cell_type": "code",
   "execution_count": 71,
   "id": "0d2c9710",
   "metadata": {},
   "outputs": [
    {
     "data": {
      "text/plain": [
       "RandomForestClassifier(class_weight={0: 1, 1: 100}, max_depth=5,\n",
       "                       n_estimators=150, random_state=0)"
      ]
     },
     "execution_count": 71,
     "metadata": {},
     "output_type": "execute_result"
    }
   ],
   "source": [
    "best_RF_model_recall = grid_search_rf_recall.best_estimator_\n",
    "best_RF_model_recall"
   ]
  },
  {
   "cell_type": "code",
   "execution_count": 72,
   "id": "5532c689",
   "metadata": {},
   "outputs": [
    {
     "data": {
      "text/html": [
       "<div>\n",
       "<style scoped>\n",
       "    .dataframe tbody tr th:only-of-type {\n",
       "        vertical-align: middle;\n",
       "    }\n",
       "\n",
       "    .dataframe tbody tr th {\n",
       "        vertical-align: top;\n",
       "    }\n",
       "\n",
       "    .dataframe thead th {\n",
       "        text-align: right;\n",
       "    }\n",
       "</style>\n",
       "<table border=\"1\" class=\"dataframe\">\n",
       "  <thead>\n",
       "    <tr style=\"text-align: right;\">\n",
       "      <th></th>\n",
       "      <th>mean_test_precision_score</th>\n",
       "      <th>mean_test_recall_score</th>\n",
       "      <th>mean_test_f1_score</th>\n",
       "      <th>mean_train_precision_score</th>\n",
       "      <th>mean_train_recall_score</th>\n",
       "      <th>mean_train_f1_score</th>\n",
       "      <th>param_max_depth</th>\n",
       "      <th>param_class_weight</th>\n",
       "      <th>param_n_estimators</th>\n",
       "    </tr>\n",
       "  </thead>\n",
       "  <tbody>\n",
       "    <tr>\n",
       "      <th>15</th>\n",
       "      <td>0.217</td>\n",
       "      <td>0.602</td>\n",
       "      <td>0.319</td>\n",
       "      <td>0.231</td>\n",
       "      <td>0.636</td>\n",
       "      <td>0.338</td>\n",
       "      <td>5</td>\n",
       "      <td>{0: 1, 1: 100}</td>\n",
       "      <td>150</td>\n",
       "    </tr>\n",
       "    <tr>\n",
       "      <th>14</th>\n",
       "      <td>0.243</td>\n",
       "      <td>0.594</td>\n",
       "      <td>0.340</td>\n",
       "      <td>0.253</td>\n",
       "      <td>0.622</td>\n",
       "      <td>0.355</td>\n",
       "      <td>5</td>\n",
       "      <td>{0: 1, 1: 100}</td>\n",
       "      <td>10</td>\n",
       "    </tr>\n",
       "    <tr>\n",
       "      <th>17</th>\n",
       "      <td>0.974</td>\n",
       "      <td>0.535</td>\n",
       "      <td>0.690</td>\n",
       "      <td>0.990</td>\n",
       "      <td>0.886</td>\n",
       "      <td>0.935</td>\n",
       "      <td>15</td>\n",
       "      <td>{0: 1, 1: 100}</td>\n",
       "      <td>150</td>\n",
       "    </tr>\n",
       "    <tr>\n",
       "      <th>1</th>\n",
       "      <td>0.996</td>\n",
       "      <td>0.534</td>\n",
       "      <td>0.695</td>\n",
       "      <td>1.000</td>\n",
       "      <td>1.000</td>\n",
       "      <td>1.000</td>\n",
       "      <td>None</td>\n",
       "      <td>{0: 1, 1: 0.2}</td>\n",
       "      <td>150</td>\n",
       "    </tr>\n",
       "    <tr>\n",
       "      <th>16</th>\n",
       "      <td>0.917</td>\n",
       "      <td>0.534</td>\n",
       "      <td>0.674</td>\n",
       "      <td>0.965</td>\n",
       "      <td>0.809</td>\n",
       "      <td>0.880</td>\n",
       "      <td>15</td>\n",
       "      <td>{0: 1, 1: 100}</td>\n",
       "      <td>10</td>\n",
       "    </tr>\n",
       "  </tbody>\n",
       "</table>\n",
       "</div>"
      ],
      "text/plain": [
       "    mean_test_precision_score  mean_test_recall_score  mean_test_f1_score  \\\n",
       "15                      0.217                   0.602               0.319   \n",
       "14                      0.243                   0.594               0.340   \n",
       "17                      0.974                   0.535               0.690   \n",
       "1                       0.996                   0.534               0.695   \n",
       "16                      0.917                   0.534               0.674   \n",
       "\n",
       "    mean_train_precision_score  mean_train_recall_score  mean_train_f1_score  \\\n",
       "15                       0.231                    0.636                0.338   \n",
       "14                       0.253                    0.622                0.355   \n",
       "17                       0.990                    0.886                0.935   \n",
       "1                        1.000                    1.000                1.000   \n",
       "16                       0.965                    0.809                0.880   \n",
       "\n",
       "   param_max_depth param_class_weight param_n_estimators  \n",
       "15               5     {0: 1, 1: 100}                150  \n",
       "14               5     {0: 1, 1: 100}                 10  \n",
       "17              15     {0: 1, 1: 100}                150  \n",
       "1             None     {0: 1, 1: 0.2}                150  \n",
       "16              15     {0: 1, 1: 100}                 10  "
      ]
     },
     "execution_count": 72,
     "metadata": {},
     "output_type": "execute_result"
    }
   ],
   "source": [
    "# predict class labels for the test set\n",
    "predictedBest_recall = best_RF_model_recall.predict(X_test)\n",
    "\n",
    "# generate class probabilities\n",
    "probsBest_recall = best_RF_model_recall.predict_proba(X_test)\n",
    "\n",
    "results_recall = pd.DataFrame(grid_search_rf_recall.cv_results_)# recall score is different from above, as above is metric on test data, this is performance on cv data\n",
    "results_sortrecall = results_recall.sort_values(by='mean_test_recall_score', ascending=False)\n",
    "results_sortrecall[['mean_test_precision_score', 'mean_test_recall_score', 'mean_test_f1_score', 'mean_train_precision_score', 'mean_train_recall_score', 'mean_train_f1_score','param_max_depth', 'param_class_weight', 'param_n_estimators']].round(3).head()\n",
    "#recall is worse than default rf?? no this is on test, but train recall is better"
   ]
  },
  {
   "cell_type": "markdown",
   "id": "f750d8d9",
   "metadata": {},
   "source": [
    "### Fraud Characteristics"
   ]
  },
  {
   "cell_type": "code",
   "execution_count": 73,
   "id": "3a347d58",
   "metadata": {},
   "outputs": [
    {
     "data": {
      "text/html": [
       "<div>\n",
       "<style scoped>\n",
       "    .dataframe tbody tr th:only-of-type {\n",
       "        vertical-align: middle;\n",
       "    }\n",
       "\n",
       "    .dataframe tbody tr th {\n",
       "        vertical-align: top;\n",
       "    }\n",
       "\n",
       "    .dataframe thead th {\n",
       "        text-align: right;\n",
       "    }\n",
       "</style>\n",
       "<table border=\"1\" class=\"dataframe\">\n",
       "  <thead>\n",
       "    <tr style=\"text-align: right;\">\n",
       "      <th>class</th>\n",
       "      <th>0</th>\n",
       "      <th>1</th>\n",
       "    </tr>\n",
       "    <tr>\n",
       "      <th>n_dev_shared</th>\n",
       "      <th></th>\n",
       "      <th></th>\n",
       "    </tr>\n",
       "  </thead>\n",
       "  <tbody>\n",
       "    <tr>\n",
       "      <th>0.00</th>\n",
       "      <td>89980</td>\n",
       "      <td>408</td>\n",
       "    </tr>\n",
       "    <tr>\n",
       "      <th>0.25</th>\n",
       "      <td>3336</td>\n",
       "      <td>306</td>\n",
       "    </tr>\n",
       "    <tr>\n",
       "      <th>0.50</th>\n",
       "      <td>136</td>\n",
       "      <td>161</td>\n",
       "    </tr>\n",
       "    <tr>\n",
       "      <th>0.75</th>\n",
       "      <td>31</td>\n",
       "      <td>85</td>\n",
       "    </tr>\n",
       "    <tr>\n",
       "      <th>1.00</th>\n",
       "      <td>5</td>\n",
       "      <td>20</td>\n",
       "    </tr>\n",
       "  </tbody>\n",
       "</table>\n",
       "</div>"
      ],
      "text/plain": [
       "class             0    1\n",
       "n_dev_shared            \n",
       "0.00          89980  408\n",
       "0.25           3336  306\n",
       "0.50            136  161\n",
       "0.75             31   85\n",
       "1.00              5   20"
      ]
     },
     "execution_count": 73,
     "metadata": {},
     "output_type": "execute_result"
    }
   ],
   "source": [
    "#for task 3, based on the above var importance\n",
    "trainDF = pd.concat([X_train, y_train], axis=1)\n",
    "pd.crosstab(trainDF[\"n_dev_shared\"],trainDF[\"class\"])\n",
    "#the larger n_dev_shared, the higher rate of fraud"
   ]
  },
  {
   "cell_type": "code",
   "execution_count": 74,
   "id": "b302cad7",
   "metadata": {},
   "outputs": [
    {
     "data": {
      "text/html": [
       "<div>\n",
       "<style scoped>\n",
       "    .dataframe tbody tr th:only-of-type {\n",
       "        vertical-align: middle;\n",
       "    }\n",
       "\n",
       "    .dataframe tbody tr th {\n",
       "        vertical-align: top;\n",
       "    }\n",
       "\n",
       "    .dataframe thead th {\n",
       "        text-align: right;\n",
       "    }\n",
       "</style>\n",
       "<table border=\"1\" class=\"dataframe\">\n",
       "  <thead>\n",
       "    <tr style=\"text-align: right;\">\n",
       "      <th></th>\n",
       "      <th>interval_after_signup</th>\n",
       "    </tr>\n",
       "    <tr>\n",
       "      <th>class</th>\n",
       "      <th></th>\n",
       "    </tr>\n",
       "  </thead>\n",
       "  <tbody>\n",
       "    <tr>\n",
       "      <th>0</th>\n",
       "      <td>5.192201e+06</td>\n",
       "    </tr>\n",
       "    <tr>\n",
       "      <th>1</th>\n",
       "      <td>2.555489e+06</td>\n",
       "    </tr>\n",
       "  </tbody>\n",
       "</table>\n",
       "</div>"
      ],
      "text/plain": [
       "       interval_after_signup\n",
       "class                       \n",
       "0               5.192201e+06\n",
       "1               2.555489e+06"
      ]
     },
     "execution_count": 74,
     "metadata": {},
     "output_type": "execute_result"
    }
   ],
   "source": [
    "fraud.groupby(\"class\")[['interval_after_signup']].mean()#action velocity(consecutive operations/actions of user)\n",
    "#interval_after_signup on frauds are significantly lower compared to legits"
   ]
  },
  {
   "cell_type": "code",
   "execution_count": 75,
   "id": "814a1505",
   "metadata": {},
   "outputs": [
    {
     "data": {
      "text/html": [
       "<div>\n",
       "<style scoped>\n",
       "    .dataframe tbody tr th:only-of-type {\n",
       "        vertical-align: middle;\n",
       "    }\n",
       "\n",
       "    .dataframe tbody tr th {\n",
       "        vertical-align: top;\n",
       "    }\n",
       "\n",
       "    .dataframe thead th {\n",
       "        text-align: right;\n",
       "    }\n",
       "</style>\n",
       "<table border=\"1\" class=\"dataframe\">\n",
       "  <thead>\n",
       "    <tr style=\"text-align: right;\">\n",
       "      <th></th>\n",
       "      <th>interval_after_signup</th>\n",
       "    </tr>\n",
       "    <tr>\n",
       "      <th>class</th>\n",
       "      <th></th>\n",
       "    </tr>\n",
       "  </thead>\n",
       "  <tbody>\n",
       "    <tr>\n",
       "      <th>0</th>\n",
       "      <td>5199459.5</td>\n",
       "    </tr>\n",
       "    <tr>\n",
       "      <th>1</th>\n",
       "      <td>1.0</td>\n",
       "    </tr>\n",
       "  </tbody>\n",
       "</table>\n",
       "</div>"
      ],
      "text/plain": [
       "       interval_after_signup\n",
       "class                       \n",
       "0                  5199459.5\n",
       "1                        1.0"
      ]
     },
     "execution_count": 75,
     "metadata": {},
     "output_type": "execute_result"
    }
   ],
   "source": [
    "fraud.groupby(\"class\")[['interval_after_signup']].median()#1\n",
    "#more than half of fraud happened 1s after signed up"
   ]
  },
  {
   "cell_type": "code",
   "execution_count": 76,
   "id": "302be87e",
   "metadata": {},
   "outputs": [
    {
     "data": {
      "text/html": [
       "<div>\n",
       "<style scoped>\n",
       "    .dataframe tbody tr th:only-of-type {\n",
       "        vertical-align: middle;\n",
       "    }\n",
       "\n",
       "    .dataframe tbody tr th {\n",
       "        vertical-align: top;\n",
       "    }\n",
       "\n",
       "    .dataframe thead th {\n",
       "        text-align: right;\n",
       "    }\n",
       "</style>\n",
       "<table border=\"1\" class=\"dataframe\">\n",
       "  <thead>\n",
       "    <tr style=\"text-align: right;\">\n",
       "      <th></th>\n",
       "      <th>user_id</th>\n",
       "      <th>signup_time</th>\n",
       "      <th>purchase_time</th>\n",
       "      <th>purchase_value</th>\n",
       "      <th>device_id</th>\n",
       "      <th>source</th>\n",
       "      <th>browser</th>\n",
       "      <th>sex</th>\n",
       "      <th>age</th>\n",
       "      <th>ip_address</th>\n",
       "      <th>class</th>\n",
       "      <th>country</th>\n",
       "      <th>interval_after_signup</th>\n",
       "      <th>signup_days_of_year</th>\n",
       "      <th>signup_seconds_of_day</th>\n",
       "      <th>purchase_days_of_year</th>\n",
       "      <th>purchase_seconds_of_day</th>\n",
       "    </tr>\n",
       "  </thead>\n",
       "  <tbody>\n",
       "    <tr>\n",
       "      <th>136961</th>\n",
       "      <td>338149</td>\n",
       "      <td>2015-08-06 22:15:13</td>\n",
       "      <td>2015-09-14 10:41:05</td>\n",
       "      <td>24</td>\n",
       "      <td>VLHGCDPFCICDA</td>\n",
       "      <td>SEO</td>\n",
       "      <td>Chrome</td>\n",
       "      <td>F</td>\n",
       "      <td>33</td>\n",
       "      <td>3.432126e+09</td>\n",
       "      <td>1</td>\n",
       "      <td>United States</td>\n",
       "      <td>3327952.0</td>\n",
       "      <td>218</td>\n",
       "      <td>80113</td>\n",
       "      <td>257</td>\n",
       "      <td>38465</td>\n",
       "    </tr>\n",
       "    <tr>\n",
       "      <th>136963</th>\n",
       "      <td>159902</td>\n",
       "      <td>2015-02-18 11:18:43</td>\n",
       "      <td>2015-05-17 21:33:13</td>\n",
       "      <td>63</td>\n",
       "      <td>ABUBCQDATQMQH</td>\n",
       "      <td>Ads</td>\n",
       "      <td>FireFox</td>\n",
       "      <td>F</td>\n",
       "      <td>46</td>\n",
       "      <td>5.505670e+08</td>\n",
       "      <td>1</td>\n",
       "      <td>United States</td>\n",
       "      <td>7640070.0</td>\n",
       "      <td>49</td>\n",
       "      <td>40723</td>\n",
       "      <td>137</td>\n",
       "      <td>77593</td>\n",
       "    </tr>\n",
       "    <tr>\n",
       "      <th>136964</th>\n",
       "      <td>165236</td>\n",
       "      <td>2015-01-12 21:35:10</td>\n",
       "      <td>2015-01-12 21:35:11</td>\n",
       "      <td>34</td>\n",
       "      <td>QHEODGCAVJKIQ</td>\n",
       "      <td>SEO</td>\n",
       "      <td>Chrome</td>\n",
       "      <td>M</td>\n",
       "      <td>37</td>\n",
       "      <td>9.408096e+08</td>\n",
       "      <td>1</td>\n",
       "      <td>United States</td>\n",
       "      <td>1.0</td>\n",
       "      <td>12</td>\n",
       "      <td>77710</td>\n",
       "      <td>12</td>\n",
       "      <td>77711</td>\n",
       "    </tr>\n",
       "    <tr>\n",
       "      <th>136965</th>\n",
       "      <td>364900</td>\n",
       "      <td>2015-01-10 13:27:01</td>\n",
       "      <td>2015-01-10 13:27:02</td>\n",
       "      <td>76</td>\n",
       "      <td>DAKVYHKIEYRBH</td>\n",
       "      <td>SEO</td>\n",
       "      <td>Chrome</td>\n",
       "      <td>F</td>\n",
       "      <td>48</td>\n",
       "      <td>6.361041e+08</td>\n",
       "      <td>1</td>\n",
       "      <td>Hungary</td>\n",
       "      <td>1.0</td>\n",
       "      <td>10</td>\n",
       "      <td>48421</td>\n",
       "      <td>10</td>\n",
       "      <td>48422</td>\n",
       "    </tr>\n",
       "    <tr>\n",
       "      <th>136968</th>\n",
       "      <td>304675</td>\n",
       "      <td>2015-01-12 08:12:56</td>\n",
       "      <td>2015-01-12 08:12:57</td>\n",
       "      <td>13</td>\n",
       "      <td>BQTPLJBGYXQYX</td>\n",
       "      <td>Ads</td>\n",
       "      <td>IE</td>\n",
       "      <td>M</td>\n",
       "      <td>32</td>\n",
       "      <td>2.463262e+09</td>\n",
       "      <td>1</td>\n",
       "      <td>Austria</td>\n",
       "      <td>1.0</td>\n",
       "      <td>12</td>\n",
       "      <td>29576</td>\n",
       "      <td>12</td>\n",
       "      <td>29577</td>\n",
       "    </tr>\n",
       "    <tr>\n",
       "      <th>...</th>\n",
       "      <td>...</td>\n",
       "      <td>...</td>\n",
       "      <td>...</td>\n",
       "      <td>...</td>\n",
       "      <td>...</td>\n",
       "      <td>...</td>\n",
       "      <td>...</td>\n",
       "      <td>...</td>\n",
       "      <td>...</td>\n",
       "      <td>...</td>\n",
       "      <td>...</td>\n",
       "      <td>...</td>\n",
       "      <td>...</td>\n",
       "      <td>...</td>\n",
       "      <td>...</td>\n",
       "      <td>...</td>\n",
       "      <td>...</td>\n",
       "    </tr>\n",
       "    <tr>\n",
       "      <th>137073</th>\n",
       "      <td>90684</td>\n",
       "      <td>2015-02-15 03:50:03</td>\n",
       "      <td>2015-04-04 04:24:10</td>\n",
       "      <td>37</td>\n",
       "      <td>HSDJQQDAJUBFU</td>\n",
       "      <td>Direct</td>\n",
       "      <td>IE</td>\n",
       "      <td>M</td>\n",
       "      <td>36</td>\n",
       "      <td>3.565062e+09</td>\n",
       "      <td>1</td>\n",
       "      <td>United Kingdom</td>\n",
       "      <td>4149247.0</td>\n",
       "      <td>46</td>\n",
       "      <td>13803</td>\n",
       "      <td>94</td>\n",
       "      <td>15850</td>\n",
       "    </tr>\n",
       "    <tr>\n",
       "      <th>137074</th>\n",
       "      <td>324605</td>\n",
       "      <td>2015-04-17 12:25:22</td>\n",
       "      <td>2015-08-01 10:58:01</td>\n",
       "      <td>18</td>\n",
       "      <td>ZJVWTAJICBTOE</td>\n",
       "      <td>Direct</td>\n",
       "      <td>Chrome</td>\n",
       "      <td>M</td>\n",
       "      <td>43</td>\n",
       "      <td>3.139261e+09</td>\n",
       "      <td>1</td>\n",
       "      <td>Brazil</td>\n",
       "      <td>9153159.0</td>\n",
       "      <td>107</td>\n",
       "      <td>44722</td>\n",
       "      <td>213</td>\n",
       "      <td>39481</td>\n",
       "    </tr>\n",
       "    <tr>\n",
       "      <th>137075</th>\n",
       "      <td>164526</td>\n",
       "      <td>2015-01-06 18:55:19</td>\n",
       "      <td>2015-03-10 17:21:29</td>\n",
       "      <td>29</td>\n",
       "      <td>APKHQJAXXGNLE</td>\n",
       "      <td>Ads</td>\n",
       "      <td>IE</td>\n",
       "      <td>F</td>\n",
       "      <td>27</td>\n",
       "      <td>2.662975e+09</td>\n",
       "      <td>1</td>\n",
       "      <td>United States</td>\n",
       "      <td>5437570.0</td>\n",
       "      <td>6</td>\n",
       "      <td>68119</td>\n",
       "      <td>69</td>\n",
       "      <td>62489</td>\n",
       "    </tr>\n",
       "    <tr>\n",
       "      <th>137076</th>\n",
       "      <td>350828</td>\n",
       "      <td>2015-01-08 11:37:26</td>\n",
       "      <td>2015-01-08 11:37:27</td>\n",
       "      <td>69</td>\n",
       "      <td>UWEPEOUQYEPZF</td>\n",
       "      <td>Direct</td>\n",
       "      <td>Chrome</td>\n",
       "      <td>M</td>\n",
       "      <td>36</td>\n",
       "      <td>2.534293e+09</td>\n",
       "      <td>1</td>\n",
       "      <td>Italy</td>\n",
       "      <td>1.0</td>\n",
       "      <td>8</td>\n",
       "      <td>41846</td>\n",
       "      <td>8</td>\n",
       "      <td>41847</td>\n",
       "    </tr>\n",
       "    <tr>\n",
       "      <th>137077</th>\n",
       "      <td>165867</td>\n",
       "      <td>2015-07-28 14:36:31</td>\n",
       "      <td>2015-11-02 16:28:40</td>\n",
       "      <td>36</td>\n",
       "      <td>OXVQWSTIGTSXD</td>\n",
       "      <td>SEO</td>\n",
       "      <td>Chrome</td>\n",
       "      <td>M</td>\n",
       "      <td>29</td>\n",
       "      <td>3.695144e+09</td>\n",
       "      <td>1</td>\n",
       "      <td>Japan</td>\n",
       "      <td>8387529.0</td>\n",
       "      <td>209</td>\n",
       "      <td>52591</td>\n",
       "      <td>306</td>\n",
       "      <td>59320</td>\n",
       "    </tr>\n",
       "  </tbody>\n",
       "</table>\n",
       "<p>100 rows × 17 columns</p>\n",
       "</div>"
      ],
      "text/plain": [
       "        user_id         signup_time       purchase_time  purchase_value  \\\n",
       "136961   338149 2015-08-06 22:15:13 2015-09-14 10:41:05              24   \n",
       "136963   159902 2015-02-18 11:18:43 2015-05-17 21:33:13              63   \n",
       "136964   165236 2015-01-12 21:35:10 2015-01-12 21:35:11              34   \n",
       "136965   364900 2015-01-10 13:27:01 2015-01-10 13:27:02              76   \n",
       "136968   304675 2015-01-12 08:12:56 2015-01-12 08:12:57              13   \n",
       "...         ...                 ...                 ...             ...   \n",
       "137073    90684 2015-02-15 03:50:03 2015-04-04 04:24:10              37   \n",
       "137074   324605 2015-04-17 12:25:22 2015-08-01 10:58:01              18   \n",
       "137075   164526 2015-01-06 18:55:19 2015-03-10 17:21:29              29   \n",
       "137076   350828 2015-01-08 11:37:26 2015-01-08 11:37:27              69   \n",
       "137077   165867 2015-07-28 14:36:31 2015-11-02 16:28:40              36   \n",
       "\n",
       "            device_id  source  browser sex  age    ip_address  class  \\\n",
       "136961  VLHGCDPFCICDA     SEO   Chrome   F   33  3.432126e+09      1   \n",
       "136963  ABUBCQDATQMQH     Ads  FireFox   F   46  5.505670e+08      1   \n",
       "136964  QHEODGCAVJKIQ     SEO   Chrome   M   37  9.408096e+08      1   \n",
       "136965  DAKVYHKIEYRBH     SEO   Chrome   F   48  6.361041e+08      1   \n",
       "136968  BQTPLJBGYXQYX     Ads       IE   M   32  2.463262e+09      1   \n",
       "...               ...     ...      ...  ..  ...           ...    ...   \n",
       "137073  HSDJQQDAJUBFU  Direct       IE   M   36  3.565062e+09      1   \n",
       "137074  ZJVWTAJICBTOE  Direct   Chrome   M   43  3.139261e+09      1   \n",
       "137075  APKHQJAXXGNLE     Ads       IE   F   27  2.662975e+09      1   \n",
       "137076  UWEPEOUQYEPZF  Direct   Chrome   M   36  2.534293e+09      1   \n",
       "137077  OXVQWSTIGTSXD     SEO   Chrome   M   29  3.695144e+09      1   \n",
       "\n",
       "               country  interval_after_signup  signup_days_of_year  \\\n",
       "136961   United States              3327952.0                  218   \n",
       "136963   United States              7640070.0                   49   \n",
       "136964   United States                    1.0                   12   \n",
       "136965         Hungary                    1.0                   10   \n",
       "136968         Austria                    1.0                   12   \n",
       "...                ...                    ...                  ...   \n",
       "137073  United Kingdom              4149247.0                   46   \n",
       "137074          Brazil              9153159.0                  107   \n",
       "137075   United States              5437570.0                    6   \n",
       "137076           Italy                    1.0                    8   \n",
       "137077           Japan              8387529.0                  209   \n",
       "\n",
       "        signup_seconds_of_day  purchase_days_of_year  purchase_seconds_of_day  \n",
       "136961                  80113                    257                    38465  \n",
       "136963                  40723                    137                    77593  \n",
       "136964                  77710                     12                    77711  \n",
       "136965                  48421                     10                    48422  \n",
       "136968                  29576                     12                    29577  \n",
       "...                       ...                    ...                      ...  \n",
       "137073                  13803                     94                    15850  \n",
       "137074                  44722                    213                    39481  \n",
       "137075                  68119                     69                    62489  \n",
       "137076                  41846                      8                    41847  \n",
       "137077                  52591                    306                    59320  \n",
       "\n",
       "[100 rows x 17 columns]"
      ]
     },
     "execution_count": 76,
     "metadata": {},
     "output_type": "execute_result"
    }
   ],
   "source": [
    "fraud[fraud['class'] == 1].head(100)"
   ]
  },
  {
   "cell_type": "markdown",
   "id": "10e94f8f",
   "metadata": {},
   "source": [
    "try XGBOOST and compare the performance of RF"
   ]
  },
  {
   "cell_type": "code",
   "execution_count": 97,
   "id": "0d8a9df2",
   "metadata": {},
   "outputs": [
    {
     "name": "stdout",
     "output_type": "stream",
     "text": [
      "Precision: 0.4791666666666667\n",
      "Recall 0.5066079295154186\n",
      "Fl-Score 0.49250535331905787\n"
     ]
    }
   ],
   "source": [
    "ada = AdaBoostClassifier(base_estimator=DecisionTreeClassifier())\n",
    "ada.fit(X_train, y_train)\n",
    "ada_preds = ada.predict(X_test)\n",
    "print(\"Precision:\",precision_score(y_test,ada_preds))\n",
    "print(\"Recall\",recall_score(y_test,ada_preds))\n",
    "print(\"Fl-Score\",f1_score(y_test,ada_preds))"
   ]
  },
  {
   "cell_type": "code",
   "execution_count": 98,
   "id": "ca3f7f85",
   "metadata": {},
   "outputs": [],
   "source": [
    "ada = AdaBoostClassifier(base_estimator=DecisionTreeClassifier())"
   ]
  },
  {
   "cell_type": "code",
   "execution_count": 99,
   "id": "3dfc092f",
   "metadata": {},
   "outputs": [],
   "source": [
    "ada_params = {\n",
    "    'n_estimators': [100,150,200],\n",
    "    'base_estimator__max_depth': [1,2],\n",
    "    'learning_rate': [.9, 1.]\n",
    "}"
   ]
  },
  {
   "cell_type": "code",
   "execution_count": 100,
   "id": "015e961a",
   "metadata": {},
   "outputs": [
    {
     "name": "stdout",
     "output_type": "stream",
     "text": [
      "0.9951306220967315\n"
     ]
    }
   ],
   "source": [
    "gs_ada = GridSearchCV(ada, param_grid=ada_params, cv=3)\n",
    "gs_ada.fit(X_train, y_train)\n",
    "print(gs_ada.best_score_)"
   ]
  },
  {
   "cell_type": "code",
   "execution_count": 101,
   "id": "c1729b18",
   "metadata": {},
   "outputs": [
    {
     "data": {
      "text/plain": [
       "{'base_estimator__max_depth': 1, 'learning_rate': 0.9, 'n_estimators': 100}"
      ]
     },
     "execution_count": 101,
     "metadata": {},
     "output_type": "execute_result"
    }
   ],
   "source": [
    "gs_ada.best_params_"
   ]
  },
  {
   "cell_type": "code",
   "execution_count": 102,
   "id": "84d984b1",
   "metadata": {},
   "outputs": [],
   "source": [
    "ada = AdaBoostClassifier(base_estimator=DecisionTreeClassifier(max_depth=2),\n",
    "                        learning_rate= 1,\n",
    "                        n_estimators=200)\n",
    "ada.fit(X_train,y_train)\n",
    "ada_pred = ada.predict(X_test)"
   ]
  },
  {
   "cell_type": "code",
   "execution_count": 103,
   "id": "b876d1ab",
   "metadata": {},
   "outputs": [
    {
     "name": "stdout",
     "output_type": "stream",
     "text": [
      "Precision: 0.4791666666666667\n",
      "Recall 0.5066079295154186\n",
      "Fl-Score 0.49250535331905787\n"
     ]
    }
   ],
   "source": [
    "print(\"Precision:\",precision_score(y_test,ada_preds))\n",
    "print(\"Recall\",recall_score(y_test,ada_preds))\n",
    "print(\"Fl-Score\",f1_score(y_test,ada_preds))"
   ]
  },
  {
   "cell_type": "markdown",
   "id": "cb5350f9",
   "metadata": {},
   "source": [
    "# How to use the prediction"
   ]
  },
  {
   "cell_type": "code",
   "execution_count": 77,
   "id": "2d1ec505",
   "metadata": {},
   "outputs": [
    {
     "name": "stdout",
     "output_type": "stream",
     "text": [
      "[[    1    18]\n",
      " [    2 22683]\n",
      " [    3   548]\n",
      " [    4   211]\n",
      " [    5    42]\n",
      " [    7    22]\n",
      " [    8    93]]\n"
     ]
    }
   ],
   "source": [
    "t = (9 * probsBest_recall[:, 1]).astype(int)\n",
    "unique, counts = np.unique(t, return_counts=True)\n",
    "\n",
    "print(np.asarray((unique, counts)).T)\n",
    "\n",
    "\n",
    "#recommended:\n",
    "#green: 1 - 3 pass\n",
    "#grey: 4-7 need manual investigation\n",
    "#red: 8,9 decline"
   ]
  },
  {
   "cell_type": "code",
   "execution_count": null,
   "id": "db2cac79",
   "metadata": {},
   "outputs": [],
   "source": []
  }
 ],
 "metadata": {
  "kernelspec": {
   "display_name": "Python 3",
   "language": "python",
   "name": "python3"
  },
  "language_info": {
   "codemirror_mode": {
    "name": "ipython",
    "version": 3
   },
   "file_extension": ".py",
   "mimetype": "text/x-python",
   "name": "python",
   "nbconvert_exporter": "python",
   "pygments_lexer": "ipython3",
   "version": "3.8.3"
  }
 },
 "nbformat": 4,
 "nbformat_minor": 5
}
